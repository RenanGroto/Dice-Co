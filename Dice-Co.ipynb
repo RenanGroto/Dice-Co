{
 "cells": [
  {
   "cell_type": "code",
   "execution_count": 297,
   "metadata": {},
   "outputs": [],
   "source": [
    "import pandas as pd\n",
    "import plotly.express as px"
   ]
  },
  {
   "cell_type": "code",
   "execution_count": 384,
   "metadata": {},
   "outputs": [],
   "source": [
    "pd.set_option('display.max_columns',None)"
   ]
  },
  {
   "cell_type": "code",
   "execution_count": 298,
   "metadata": {},
   "outputs": [],
   "source": [
    "df1 = pd.read_excel(\"Avaliações_Jogos.xlsx\")\n",
    "df2 = pd.read_excel(\"Categorias_Jogos.xlsx\")\n",
    "df3 = pd.read_excel(\"Infos_Jogos.xlsx\")"
   ]
  },
  {
   "cell_type": "code",
   "execution_count": 366,
   "metadata": {},
   "outputs": [],
   "source": [
    "df = pd.concat([df1, df2, df3], axis = 1)"
   ]
  },
  {
   "cell_type": "markdown",
   "metadata": {},
   "source": [
    "objectid\n",
    "min_community = ???\n",
    "max_community = ???\n",
    "totalvotes = votos q recebeu\n",
    "playerage = idade de qm votou????\n",
    "languagedependence\n",
    "usersrated\n",
    "average\n",
    "baverage\n",
    "stddev\n",
    "avgweight\n",
    "numweights\n",
    "numgeeklists\n",
    "numtrading\n",
    "numwanting\n",
    "numcomments\n",
    "siteviews\n",
    "numplays\n",
    "numplays_month\n",
    "news\n",
    "blogs\n",
    "weblink\n",
    "podcast\n",
    "label = APAGAR\n",
    "boardgamedesigner_cnt\n",
    "boardgameartist_cnt\n",
    "boardgamepublisher_cnt\n",
    "boardgamehonor_cnt\n",
    "boardgamecategory_cnt\n",
    "boardgamemechanic_cnt\n",
    "boardgameexpansion_cnt\n",
    "boardgameversion_cnt\n",
    "boardgamefamily_cnt\n",
    "boardgamedesigner\n",
    "boardgameartist\n",
    "boardgamepublisher\n",
    "boardgamehonor = premios\n",
    "boardgamecategory = categoria\n",
    "boardgameversion\n",
    "boardgamemechanic\n",
    "boardgameexpansion'\n",
    "boardgamefamily\n",
    "gamelink = link do jogo\n",
    "name = nome do jogo\n",
    "yearpublished = ano de lançamento\n",
    "sortindex = ???\n",
    "minplayers = min de jogadores\n",
    "maxplayers = max de jogadores\n",
    "minplaytime = min de tempo de partida\n",
    "maxplaytime = max de tempo de partida\n",
    "minage = idade minima"
   ]
  },
  {
   "cell_type": "code",
   "execution_count": 401,
   "metadata": {},
   "outputs": [
    {
     "name": "stdout",
     "output_type": "stream",
     "text": [
      "<class 'pandas.core.frame.DataFrame'>\n",
      "Index: 20000 entries, 0 to 19999\n",
      "Data columns (total 52 columns):\n",
      " #   Column                  Non-Null Count  Dtype  \n",
      "---  ------                  --------------  -----  \n",
      " 0   objectid                20000 non-null  int64  \n",
      " 1   min_community           14141 non-null  float64\n",
      " 2   max_community           14803 non-null  float64\n",
      " 3   totalvotes              19904 non-null  float64\n",
      " 4   playerage               19903 non-null  object \n",
      " 5   languagedependence      20000 non-null  int64  \n",
      " 6   usersrated              19903 non-null  float64\n",
      " 7   average                 19903 non-null  float64\n",
      " 8   baverage                19904 non-null  float64\n",
      " 9   stddev                  20000 non-null  float64\n",
      " 10  avgweight               20000 non-null  float64\n",
      " 11  numweights              20000 non-null  int64  \n",
      " 12  numgeeklists            20000 non-null  int64  \n",
      " 13  numtrading              20000 non-null  int64  \n",
      " 14  numwanting              20000 non-null  int64  \n",
      " 15  numcomments             20000 non-null  int64  \n",
      " 16  siteviews               20000 non-null  int64  \n",
      " 17  numplays                20000 non-null  int64  \n",
      " 18  numplays_month          20000 non-null  int64  \n",
      " 19  news                    20000 non-null  int64  \n",
      " 20  blogs                   20000 non-null  int64  \n",
      " 21  weblink                 20000 non-null  int64  \n",
      " 22  podcast                 20000 non-null  int64  \n",
      " 23  objectid                20000 non-null  int64  \n",
      " 24  boardgamedesigner_cnt   20000 non-null  int64  \n",
      " 25  boardgameartist_cnt     20000 non-null  int64  \n",
      " 26  boardgamepublisher_cnt  20000 non-null  int64  \n",
      " 27  boardgamehonor_cnt      20000 non-null  int64  \n",
      " 28  boardgamecategory_cnt   20000 non-null  int64  \n",
      " 29  boardgamemechanic_cnt   20000 non-null  int64  \n",
      " 30  boardgameexpansion_cnt  20000 non-null  int64  \n",
      " 31  boardgameversion_cnt    20000 non-null  int64  \n",
      " 32  boardgamefamily_cnt     20000 non-null  int64  \n",
      " 33  boardgamedesigner       20000 non-null  object \n",
      " 34  boardgameartist         20000 non-null  object \n",
      " 35  boardgamepublisher      20000 non-null  object \n",
      " 36  boardgamehonor          20000 non-null  object \n",
      " 37  boardgamecategory       20000 non-null  object \n",
      " 38  boardgameversion        20000 non-null  object \n",
      " 39  boardgamemechanic       20000 non-null  object \n",
      " 40  boardgameexpansion      20000 non-null  object \n",
      " 41  boardgamefamily         20000 non-null  object \n",
      " 42  gamelink                20000 non-null  object \n",
      " 43  object_id               20000 non-null  int64  \n",
      " 44  name                    20000 non-null  object \n",
      " 45  yearpublished           20000 non-null  int64  \n",
      " 46  sortindex               20000 non-null  int64  \n",
      " 47  minplayers              20000 non-null  int64  \n",
      " 48  maxplayers              20000 non-null  int64  \n",
      " 49  minplaytime             20000 non-null  int64  \n",
      " 50  maxplaytime             20000 non-null  int64  \n",
      " 51  minage                  20000 non-null  int64  \n",
      "dtypes: float64(8), int64(32), object(12)\n",
      "memory usage: 8.1+ MB\n"
     ]
    }
   ],
   "source": [
    "df.info()"
   ]
  },
  {
   "cell_type": "code",
   "execution_count": 306,
   "metadata": {},
   "outputs": [
    {
     "data": {
      "text/html": [
       "<div>\n",
       "<style scoped>\n",
       "    .dataframe tbody tr th:only-of-type {\n",
       "        vertical-align: middle;\n",
       "    }\n",
       "\n",
       "    .dataframe tbody tr th {\n",
       "        vertical-align: top;\n",
       "    }\n",
       "\n",
       "    .dataframe thead th {\n",
       "        text-align: right;\n",
       "    }\n",
       "</style>\n",
       "<table border=\"1\" class=\"dataframe\">\n",
       "  <thead>\n",
       "    <tr style=\"text-align: right;\">\n",
       "      <th></th>\n",
       "      <th>objectid</th>\n",
       "      <th>min_community</th>\n",
       "      <th>max_community</th>\n",
       "      <th>totalvotes</th>\n",
       "      <th>languagedependence</th>\n",
       "      <th>usersrated</th>\n",
       "      <th>average</th>\n",
       "      <th>baverage</th>\n",
       "      <th>stddev</th>\n",
       "      <th>avgweight</th>\n",
       "      <th>...</th>\n",
       "      <th>boardgameversion_cnt</th>\n",
       "      <th>boardgamefamily_cnt</th>\n",
       "      <th>object_id</th>\n",
       "      <th>yearpublished</th>\n",
       "      <th>sortindex</th>\n",
       "      <th>minplayers</th>\n",
       "      <th>maxplayers</th>\n",
       "      <th>minplaytime</th>\n",
       "      <th>maxplaytime</th>\n",
       "      <th>minage</th>\n",
       "    </tr>\n",
       "  </thead>\n",
       "  <tbody>\n",
       "    <tr>\n",
       "      <th>count</th>\n",
       "      <td>20016.000000</td>\n",
       "      <td>14149.000000</td>\n",
       "      <td>14816.000000</td>\n",
       "      <td>19920.000000</td>\n",
       "      <td>20016.000000</td>\n",
       "      <td>19919.000000</td>\n",
       "      <td>19918.000000</td>\n",
       "      <td>19920.000000</td>\n",
       "      <td>20016.000000</td>\n",
       "      <td>20016.000000</td>\n",
       "      <td>...</td>\n",
       "      <td>20016.000000</td>\n",
       "      <td>20016.000000</td>\n",
       "      <td>20016.000000</td>\n",
       "      <td>20016.000000</td>\n",
       "      <td>20016.000000</td>\n",
       "      <td>20016.000000</td>\n",
       "      <td>20016.000000</td>\n",
       "      <td>20016.000000</td>\n",
       "      <td>20016.000000</td>\n",
       "      <td>20016.000000</td>\n",
       "    </tr>\n",
       "    <tr>\n",
       "      <th>mean</th>\n",
       "      <td>88671.356815</td>\n",
       "      <td>3.203336</td>\n",
       "      <td>4.277740</td>\n",
       "      <td>13.462149</td>\n",
       "      <td>1.354766</td>\n",
       "      <td>740.750038</td>\n",
       "      <td>6.275196</td>\n",
       "      <td>5.297070</td>\n",
       "      <td>1.499604</td>\n",
       "      <td>1.931676</td>\n",
       "      <td>...</td>\n",
       "      <td>3.392536</td>\n",
       "      <td>1.429307</td>\n",
       "      <td>88671.356815</td>\n",
       "      <td>1981.279976</td>\n",
       "      <td>10001.834782</td>\n",
       "      <td>2.055256</td>\n",
       "      <td>5.591427</td>\n",
       "      <td>68.080735</td>\n",
       "      <td>94.271533</td>\n",
       "      <td>9.475120</td>\n",
       "    </tr>\n",
       "    <tr>\n",
       "      <th>std</th>\n",
       "      <td>90648.089927</td>\n",
       "      <td>1.398786</td>\n",
       "      <td>2.154951</td>\n",
       "      <td>57.198432</td>\n",
       "      <td>1.397114</td>\n",
       "      <td>3101.894657</td>\n",
       "      <td>1.064695</td>\n",
       "      <td>1.495368</td>\n",
       "      <td>0.340845</td>\n",
       "      <td>0.897099</td>\n",
       "      <td>...</td>\n",
       "      <td>12.313072</td>\n",
       "      <td>1.728051</td>\n",
       "      <td>90648.089927</td>\n",
       "      <td>219.137802</td>\n",
       "      <td>5774.059572</td>\n",
       "      <td>0.745471</td>\n",
       "      <td>15.043261</td>\n",
       "      <td>466.317247</td>\n",
       "      <td>1005.354972</td>\n",
       "      <td>3.739411</td>\n",
       "    </tr>\n",
       "    <tr>\n",
       "      <th>min</th>\n",
       "      <td>1.000000</td>\n",
       "      <td>1.000000</td>\n",
       "      <td>1.000000</td>\n",
       "      <td>0.000000</td>\n",
       "      <td>0.000000</td>\n",
       "      <td>0.000000</td>\n",
       "      <td>0.000000</td>\n",
       "      <td>0.000000</td>\n",
       "      <td>0.000000</td>\n",
       "      <td>0.000000</td>\n",
       "      <td>...</td>\n",
       "      <td>0.000000</td>\n",
       "      <td>0.000000</td>\n",
       "      <td>1.000000</td>\n",
       "      <td>-3500.000000</td>\n",
       "      <td>1.000000</td>\n",
       "      <td>0.000000</td>\n",
       "      <td>0.000000</td>\n",
       "      <td>0.000000</td>\n",
       "      <td>0.000000</td>\n",
       "      <td>0.000000</td>\n",
       "    </tr>\n",
       "    <tr>\n",
       "      <th>25%</th>\n",
       "      <td>5857.500000</td>\n",
       "      <td>2.000000</td>\n",
       "      <td>3.000000</td>\n",
       "      <td>1.000000</td>\n",
       "      <td>0.000000</td>\n",
       "      <td>47.000000</td>\n",
       "      <td>5.712525</td>\n",
       "      <td>5.502950</td>\n",
       "      <td>1.309850</td>\n",
       "      <td>1.255250</td>\n",
       "      <td>...</td>\n",
       "      <td>1.000000</td>\n",
       "      <td>0.000000</td>\n",
       "      <td>5857.500000</td>\n",
       "      <td>1997.000000</td>\n",
       "      <td>5000.750000</td>\n",
       "      <td>2.000000</td>\n",
       "      <td>4.000000</td>\n",
       "      <td>20.000000</td>\n",
       "      <td>30.000000</td>\n",
       "      <td>8.000000</td>\n",
       "    </tr>\n",
       "    <tr>\n",
       "      <th>50%</th>\n",
       "      <td>39284.500000</td>\n",
       "      <td>3.000000</td>\n",
       "      <td>4.000000</td>\n",
       "      <td>3.000000</td>\n",
       "      <td>1.000000</td>\n",
       "      <td>105.000000</td>\n",
       "      <td>6.354050</td>\n",
       "      <td>5.545080</td>\n",
       "      <td>1.471530</td>\n",
       "      <td>1.910900</td>\n",
       "      <td>...</td>\n",
       "      <td>2.000000</td>\n",
       "      <td>1.000000</td>\n",
       "      <td>39284.500000</td>\n",
       "      <td>2008.000000</td>\n",
       "      <td>10003.500000</td>\n",
       "      <td>2.000000</td>\n",
       "      <td>4.000000</td>\n",
       "      <td>30.000000</td>\n",
       "      <td>45.000000</td>\n",
       "      <td>10.000000</td>\n",
       "    </tr>\n",
       "    <tr>\n",
       "      <th>75%</th>\n",
       "      <td>169680.500000</td>\n",
       "      <td>4.000000</td>\n",
       "      <td>5.000000</td>\n",
       "      <td>7.000000</td>\n",
       "      <td>2.000000</td>\n",
       "      <td>334.000000</td>\n",
       "      <td>6.955568</td>\n",
       "      <td>5.675205</td>\n",
       "      <td>1.663863</td>\n",
       "      <td>2.500000</td>\n",
       "      <td>...</td>\n",
       "      <td>3.000000</td>\n",
       "      <td>2.000000</td>\n",
       "      <td>169680.500000</td>\n",
       "      <td>2015.000000</td>\n",
       "      <td>15001.250000</td>\n",
       "      <td>2.000000</td>\n",
       "      <td>6.000000</td>\n",
       "      <td>60.000000</td>\n",
       "      <td>90.000000</td>\n",
       "      <td>12.000000</td>\n",
       "    </tr>\n",
       "    <tr>\n",
       "      <th>max</th>\n",
       "      <td>295770.000000</td>\n",
       "      <td>31.000000</td>\n",
       "      <td>31.000000</td>\n",
       "      <td>1868.000000</td>\n",
       "      <td>5.000000</td>\n",
       "      <td>90730.000000</td>\n",
       "      <td>9.442860</td>\n",
       "      <td>8.584240</td>\n",
       "      <td>4.500000</td>\n",
       "      <td>5.000000</td>\n",
       "      <td>...</td>\n",
       "      <td>1002.000000</td>\n",
       "      <td>86.000000</td>\n",
       "      <td>295770.000000</td>\n",
       "      <td>2021.000000</td>\n",
       "      <td>20000.000000</td>\n",
       "      <td>10.000000</td>\n",
       "      <td>999.000000</td>\n",
       "      <td>60000.000000</td>\n",
       "      <td>120000.000000</td>\n",
       "      <td>25.000000</td>\n",
       "    </tr>\n",
       "  </tbody>\n",
       "</table>\n",
       "<p>8 rows × 40 columns</p>\n",
       "</div>"
      ],
      "text/plain": [
       "            objectid  min_community  max_community    totalvotes  \\\n",
       "count   20016.000000   14149.000000   14816.000000  19920.000000   \n",
       "mean    88671.356815       3.203336       4.277740     13.462149   \n",
       "std     90648.089927       1.398786       2.154951     57.198432   \n",
       "min         1.000000       1.000000       1.000000      0.000000   \n",
       "25%      5857.500000       2.000000       3.000000      1.000000   \n",
       "50%     39284.500000       3.000000       4.000000      3.000000   \n",
       "75%    169680.500000       4.000000       5.000000      7.000000   \n",
       "max    295770.000000      31.000000      31.000000   1868.000000   \n",
       "\n",
       "       languagedependence    usersrated       average      baverage  \\\n",
       "count        20016.000000  19919.000000  19918.000000  19920.000000   \n",
       "mean             1.354766    740.750038      6.275196      5.297070   \n",
       "std              1.397114   3101.894657      1.064695      1.495368   \n",
       "min              0.000000      0.000000      0.000000      0.000000   \n",
       "25%              0.000000     47.000000      5.712525      5.502950   \n",
       "50%              1.000000    105.000000      6.354050      5.545080   \n",
       "75%              2.000000    334.000000      6.955568      5.675205   \n",
       "max              5.000000  90730.000000      9.442860      8.584240   \n",
       "\n",
       "             stddev     avgweight  ...  boardgameversion_cnt  \\\n",
       "count  20016.000000  20016.000000  ...          20016.000000   \n",
       "mean       1.499604      1.931676  ...              3.392536   \n",
       "std        0.340845      0.897099  ...             12.313072   \n",
       "min        0.000000      0.000000  ...              0.000000   \n",
       "25%        1.309850      1.255250  ...              1.000000   \n",
       "50%        1.471530      1.910900  ...              2.000000   \n",
       "75%        1.663863      2.500000  ...              3.000000   \n",
       "max        4.500000      5.000000  ...           1002.000000   \n",
       "\n",
       "       boardgamefamily_cnt      object_id  yearpublished     sortindex  \\\n",
       "count         20016.000000   20016.000000   20016.000000  20016.000000   \n",
       "mean              1.429307   88671.356815    1981.279976  10001.834782   \n",
       "std               1.728051   90648.089927     219.137802   5774.059572   \n",
       "min               0.000000       1.000000   -3500.000000      1.000000   \n",
       "25%               0.000000    5857.500000    1997.000000   5000.750000   \n",
       "50%               1.000000   39284.500000    2008.000000  10003.500000   \n",
       "75%               2.000000  169680.500000    2015.000000  15001.250000   \n",
       "max              86.000000  295770.000000    2021.000000  20000.000000   \n",
       "\n",
       "         minplayers    maxplayers   minplaytime    maxplaytime        minage  \n",
       "count  20016.000000  20016.000000  20016.000000   20016.000000  20016.000000  \n",
       "mean       2.055256      5.591427     68.080735      94.271533      9.475120  \n",
       "std        0.745471     15.043261    466.317247    1005.354972      3.739411  \n",
       "min        0.000000      0.000000      0.000000       0.000000      0.000000  \n",
       "25%        2.000000      4.000000     20.000000      30.000000      8.000000  \n",
       "50%        2.000000      4.000000     30.000000      45.000000     10.000000  \n",
       "75%        2.000000      6.000000     60.000000      90.000000     12.000000  \n",
       "max       10.000000    999.000000  60000.000000  120000.000000     25.000000  \n",
       "\n",
       "[8 rows x 40 columns]"
      ]
     },
     "execution_count": 306,
     "metadata": {},
     "output_type": "execute_result"
    }
   ],
   "source": [
    "df.describe()\n"
   ]
  },
  {
   "cell_type": "markdown",
   "metadata": {},
   "source": [
    "LIMPEZA: \n",
    "- Duplicatas: existem jogos com nomes iguais, porém não devem existir jogos com o mesmo \"gamelink\" e \"sortindex\"."
   ]
  },
  {
   "cell_type": "code",
   "execution_count": 387,
   "metadata": {},
   "outputs": [
    {
     "data": {
      "text/plain": [
       "Series([], Name: count, dtype: int64)"
      ]
     },
     "execution_count": 387,
     "metadata": {},
     "output_type": "execute_result"
    }
   ],
   "source": [
    "a=df[df.duplicated(subset='sortindex', keep=False)]\n",
    "a[\"sortindex\"].value_counts()                           #quantos valores se repetem em'sortindex'"
   ]
  },
  {
   "cell_type": "code",
   "execution_count": 374,
   "metadata": {},
   "outputs": [],
   "source": [
    "df.drop_duplicates(subset='gamelink', inplace=True)  #APAGANDO DUPLICATAS"
   ]
  },
  {
   "cell_type": "markdown",
   "metadata": {},
   "source": [
    "- Irrelevante: coluna \"Label\" apenas possui um valor."
   ]
  },
  {
   "cell_type": "code",
   "execution_count": 381,
   "metadata": {},
   "outputs": [
    {
     "data": {
      "text/plain": [
       "1"
      ]
     },
     "execution_count": 381,
     "metadata": {},
     "output_type": "execute_result"
    }
   ],
   "source": [
    "df['label'].nunique() #qnts valores diferentes tem em \"label\""
   ]
  },
  {
   "cell_type": "code",
   "execution_count": 383,
   "metadata": {},
   "outputs": [],
   "source": [
    "df.drop(columns='label', inplace=True)    #APAGANDO COLUNA IRRELEVANTE"
   ]
  },
  {
   "cell_type": "markdown",
   "metadata": {},
   "source": [
    "-Nulos: tem q entender o q eh min_community"
   ]
  },
  {
   "cell_type": "code",
   "execution_count": 402,
   "metadata": {},
   "outputs": [
    {
     "data": {
      "text/html": [
       "<div>\n",
       "<style scoped>\n",
       "    .dataframe tbody tr th:only-of-type {\n",
       "        vertical-align: middle;\n",
       "    }\n",
       "\n",
       "    .dataframe tbody tr th {\n",
       "        vertical-align: top;\n",
       "    }\n",
       "\n",
       "    .dataframe thead th {\n",
       "        text-align: right;\n",
       "    }\n",
       "</style>\n",
       "<table border=\"1\" class=\"dataframe\">\n",
       "  <thead>\n",
       "    <tr style=\"text-align: right;\">\n",
       "      <th></th>\n",
       "      <th>objectid</th>\n",
       "      <th>min_community</th>\n",
       "      <th>max_community</th>\n",
       "      <th>totalvotes</th>\n",
       "      <th>playerage</th>\n",
       "      <th>languagedependence</th>\n",
       "      <th>usersrated</th>\n",
       "      <th>average</th>\n",
       "      <th>baverage</th>\n",
       "      <th>stddev</th>\n",
       "      <th>avgweight</th>\n",
       "      <th>numweights</th>\n",
       "      <th>numgeeklists</th>\n",
       "      <th>numtrading</th>\n",
       "      <th>numwanting</th>\n",
       "      <th>numcomments</th>\n",
       "      <th>siteviews</th>\n",
       "      <th>numplays</th>\n",
       "      <th>numplays_month</th>\n",
       "      <th>news</th>\n",
       "      <th>blogs</th>\n",
       "      <th>weblink</th>\n",
       "      <th>podcast</th>\n",
       "      <th>objectid</th>\n",
       "      <th>boardgamedesigner_cnt</th>\n",
       "      <th>boardgameartist_cnt</th>\n",
       "      <th>boardgamepublisher_cnt</th>\n",
       "      <th>boardgamehonor_cnt</th>\n",
       "      <th>boardgamecategory_cnt</th>\n",
       "      <th>boardgamemechanic_cnt</th>\n",
       "      <th>boardgameexpansion_cnt</th>\n",
       "      <th>boardgameversion_cnt</th>\n",
       "      <th>boardgamefamily_cnt</th>\n",
       "      <th>boardgamedesigner</th>\n",
       "      <th>boardgameartist</th>\n",
       "      <th>boardgamepublisher</th>\n",
       "      <th>boardgamehonor</th>\n",
       "      <th>boardgamecategory</th>\n",
       "      <th>boardgameversion</th>\n",
       "      <th>boardgamemechanic</th>\n",
       "      <th>boardgameexpansion</th>\n",
       "      <th>boardgamefamily</th>\n",
       "      <th>gamelink</th>\n",
       "      <th>object_id</th>\n",
       "      <th>name</th>\n",
       "      <th>yearpublished</th>\n",
       "      <th>sortindex</th>\n",
       "      <th>minplayers</th>\n",
       "      <th>maxplayers</th>\n",
       "      <th>minplaytime</th>\n",
       "      <th>maxplaytime</th>\n",
       "      <th>minage</th>\n",
       "    </tr>\n",
       "  </thead>\n",
       "  <tbody>\n",
       "    <tr>\n",
       "      <th>0</th>\n",
       "      <td>174430</td>\n",
       "      <td>3.0</td>\n",
       "      <td>4.0</td>\n",
       "      <td>827.0</td>\n",
       "      <td>14</td>\n",
       "      <td>4</td>\n",
       "      <td>31254.0</td>\n",
       "      <td>8.85292</td>\n",
       "      <td>8.58424</td>\n",
       "      <td>1.59819</td>\n",
       "      <td>3.8078</td>\n",
       "      <td>1311</td>\n",
       "      <td>3657</td>\n",
       "      <td>313</td>\n",
       "      <td>1365</td>\n",
       "      <td>5972</td>\n",
       "      <td>8933078</td>\n",
       "      <td>230213</td>\n",
       "      <td>3478</td>\n",
       "      <td>7</td>\n",
       "      <td>471</td>\n",
       "      <td>31</td>\n",
       "      <td>139</td>\n",
       "      <td>174430</td>\n",
       "      <td>1</td>\n",
       "      <td>3</td>\n",
       "      <td>9</td>\n",
       "      <td>23</td>\n",
       "      <td>5</td>\n",
       "      <td>12</td>\n",
       "      <td>4</td>\n",
       "      <td>19</td>\n",
       "      <td>7</td>\n",
       "      <td>['Isaac Childres\"']</td>\n",
       "      <td>['Alexandr Elichev', 'Josh T. McDowell', 'Alva...</td>\n",
       "      <td>['Cephalofair Games', 'Albi', 'Asmodee', 'Feue...</td>\n",
       "      <td>['2017 Best Science Fiction or Fantasy Board G...</td>\n",
       "      <td>['Adventure', 'Exploration', 'Fantasy', 'Fight...</td>\n",
       "      <td>['Chinese edition', 'Czech edition', 'English ...</td>\n",
       "      <td>['Campaign / Battle Card Driven', 'Cooperative...</td>\n",
       "      <td>['Gloomhaven: Forgotten Circles', 'Gloomhaven:...</td>\n",
       "      <td>['Campaign Games', 'Components: Miniatures', '...</td>\n",
       "      <td>/boardgame/174430/gloomhaven</td>\n",
       "      <td>174430</td>\n",
       "      <td>Gloomhaven</td>\n",
       "      <td>2017</td>\n",
       "      <td>1</td>\n",
       "      <td>1</td>\n",
       "      <td>4</td>\n",
       "      <td>60</td>\n",
       "      <td>120</td>\n",
       "      <td>12</td>\n",
       "    </tr>\n",
       "    <tr>\n",
       "      <th>1</th>\n",
       "      <td>161936</td>\n",
       "      <td>4.0</td>\n",
       "      <td>4.0</td>\n",
       "      <td>549.0</td>\n",
       "      <td>12</td>\n",
       "      <td>4</td>\n",
       "      <td>34729.0</td>\n",
       "      <td>8.62499</td>\n",
       "      <td>8.47159</td>\n",
       "      <td>1.59463</td>\n",
       "      <td>2.8301</td>\n",
       "      <td>971</td>\n",
       "      <td>3612</td>\n",
       "      <td>272</td>\n",
       "      <td>771</td>\n",
       "      <td>5477</td>\n",
       "      <td>2971746</td>\n",
       "      <td>196621</td>\n",
       "      <td>1090</td>\n",
       "      <td>9</td>\n",
       "      <td>597</td>\n",
       "      <td>69</td>\n",
       "      <td>164</td>\n",
       "      <td>161936</td>\n",
       "      <td>2</td>\n",
       "      <td>1</td>\n",
       "      <td>11</td>\n",
       "      <td>20</td>\n",
       "      <td>2</td>\n",
       "      <td>8</td>\n",
       "      <td>0</td>\n",
       "      <td>33</td>\n",
       "      <td>3</td>\n",
       "      <td>['Rob Daviau\"', 'Matt Leacock\"']</td>\n",
       "      <td>['Chris Quilliams']</td>\n",
       "      <td>['Z-Man Games', 'Asterion Press', 'Devir', 'Fi...</td>\n",
       "      <td>['2015 Cardboard Republic Immersionist Laurel ...</td>\n",
       "      <td>['Environmental', 'Medical']</td>\n",
       "      <td>['Chinese blue edition', 'Chinese red edition'...</td>\n",
       "      <td>['Action Points', 'Cooperative Game', 'Hand Ma...</td>\n",
       "      <td>['None']</td>\n",
       "      <td>['Campaign Games', 'Legacy', 'Pandemic']</td>\n",
       "      <td>/boardgame/161936/pandemic-legacy-season-1</td>\n",
       "      <td>161936</td>\n",
       "      <td>Pandemic Legacy  Season 1</td>\n",
       "      <td>2015</td>\n",
       "      <td>2</td>\n",
       "      <td>2</td>\n",
       "      <td>4</td>\n",
       "      <td>60</td>\n",
       "      <td>60</td>\n",
       "      <td>13</td>\n",
       "    </tr>\n",
       "    <tr>\n",
       "      <th>2</th>\n",
       "      <td>167791</td>\n",
       "      <td>3.0</td>\n",
       "      <td>4.0</td>\n",
       "      <td>1252.0</td>\n",
       "      <td>12</td>\n",
       "      <td>3</td>\n",
       "      <td>48339.0</td>\n",
       "      <td>8.42299</td>\n",
       "      <td>8.26781</td>\n",
       "      <td>1.36938</td>\n",
       "      <td>3.2313</td>\n",
       "      <td>1863</td>\n",
       "      <td>5941</td>\n",
       "      <td>277</td>\n",
       "      <td>2068</td>\n",
       "      <td>7274</td>\n",
       "      <td>4724387</td>\n",
       "      <td>245997</td>\n",
       "      <td>4380</td>\n",
       "      <td>14</td>\n",
       "      <td>1158</td>\n",
       "      <td>60</td>\n",
       "      <td>148</td>\n",
       "      <td>167791</td>\n",
       "      <td>1</td>\n",
       "      <td>1</td>\n",
       "      <td>20</td>\n",
       "      <td>20</td>\n",
       "      <td>6</td>\n",
       "      <td>9</td>\n",
       "      <td>15</td>\n",
       "      <td>29</td>\n",
       "      <td>6</td>\n",
       "      <td>['Jacob Fryxelius\"']</td>\n",
       "      <td>['Isaac Fryxelius']</td>\n",
       "      <td>['FryxGames', 'Arclight', 'Fantasmagoria', 'Gh...</td>\n",
       "      <td>['2016 Cardboard Republic Architect Laurel Nom...</td>\n",
       "      <td>['Economic', 'Environmental', 'Industry / Manu...</td>\n",
       "      <td>['Bulgarian edition', 'Chinese edition', 'Czec...</td>\n",
       "      <td>['Card Drafting', 'End Game Bonuses', 'Hand Ma...</td>\n",
       "      <td>['French Championship Promo Cards (fan expansi...</td>\n",
       "      <td>['Fryxgames Future Timeline', 'Planets: Mars',...</td>\n",
       "      <td>/boardgame/167791/terraforming-mars</td>\n",
       "      <td>167791</td>\n",
       "      <td>Terraforming Mars</td>\n",
       "      <td>2016</td>\n",
       "      <td>3</td>\n",
       "      <td>1</td>\n",
       "      <td>5</td>\n",
       "      <td>120</td>\n",
       "      <td>120</td>\n",
       "      <td>12</td>\n",
       "    </tr>\n",
       "    <tr>\n",
       "      <th>3</th>\n",
       "      <td>182028</td>\n",
       "      <td>3.0</td>\n",
       "      <td>4.0</td>\n",
       "      <td>436.0</td>\n",
       "      <td>14</td>\n",
       "      <td>4</td>\n",
       "      <td>18269.0</td>\n",
       "      <td>8.49419</td>\n",
       "      <td>8.23513</td>\n",
       "      <td>1.49542</td>\n",
       "      <td>4.3850</td>\n",
       "      <td>891</td>\n",
       "      <td>2083</td>\n",
       "      <td>280</td>\n",
       "      <td>1049</td>\n",
       "      <td>2660</td>\n",
       "      <td>2448074</td>\n",
       "      <td>54284</td>\n",
       "      <td>511</td>\n",
       "      <td>5</td>\n",
       "      <td>185</td>\n",
       "      <td>30</td>\n",
       "      <td>42</td>\n",
       "      <td>182028</td>\n",
       "      <td>1</td>\n",
       "      <td>4</td>\n",
       "      <td>13</td>\n",
       "      <td>3</td>\n",
       "      <td>3</td>\n",
       "      <td>5</td>\n",
       "      <td>1</td>\n",
       "      <td>14</td>\n",
       "      <td>2</td>\n",
       "      <td>['Vlaada Chv\\\\u00e1til\"']</td>\n",
       "      <td>['Filip Murmak', 'Radim Pech', 'Jakub Politzer...</td>\n",
       "      <td>['Czech Games Edition', 'Cranio Creations', 'D...</td>\n",
       "      <td>['2015 Golden Geek Best Strategy Board Game No...</td>\n",
       "      <td>['Card Game', 'Civilization', 'Economic']</td>\n",
       "      <td>['Chinese edition', 'Czech edition', 'English ...</td>\n",
       "      <td>['Action Points', 'Auction/Bidding', 'Auction:...</td>\n",
       "      <td>['Through the Ages: New Leaders and Wonders']</td>\n",
       "      <td>['Tableau Building', 'Through the Ages']</td>\n",
       "      <td>/boardgame/182028/through-ages-new-story-civil...</td>\n",
       "      <td>182028</td>\n",
       "      <td>Through the Ages  A New Story of Civilization</td>\n",
       "      <td>2015</td>\n",
       "      <td>4</td>\n",
       "      <td>2</td>\n",
       "      <td>4</td>\n",
       "      <td>120</td>\n",
       "      <td>120</td>\n",
       "      <td>14</td>\n",
       "    </tr>\n",
       "    <tr>\n",
       "      <th>4</th>\n",
       "      <td>224517</td>\n",
       "      <td>3.0</td>\n",
       "      <td>4.0</td>\n",
       "      <td>242.0</td>\n",
       "      <td>14</td>\n",
       "      <td>1</td>\n",
       "      <td>10070.0</td>\n",
       "      <td>8.62031</td>\n",
       "      <td>8.20459</td>\n",
       "      <td>1.22876</td>\n",
       "      <td>3.9122</td>\n",
       "      <td>467</td>\n",
       "      <td>1039</td>\n",
       "      <td>37</td>\n",
       "      <td>1077</td>\n",
       "      <td>1702</td>\n",
       "      <td>894621</td>\n",
       "      <td>23336</td>\n",
       "      <td>815</td>\n",
       "      <td>3</td>\n",
       "      <td>124</td>\n",
       "      <td>13</td>\n",
       "      <td>21</td>\n",
       "      <td>224517</td>\n",
       "      <td>3</td>\n",
       "      <td>3</td>\n",
       "      <td>8</td>\n",
       "      <td>6</td>\n",
       "      <td>3</td>\n",
       "      <td>8</td>\n",
       "      <td>0</td>\n",
       "      <td>9</td>\n",
       "      <td>6</td>\n",
       "      <td>['Gavan Brown\"', 'Matt Tolman\"', 'Martin Walla...</td>\n",
       "      <td>['Lina Cossette', 'David Forest', 'Damien Mamm...</td>\n",
       "      <td>['Roxley', 'BoardM Factory', 'Conclave Editora...</td>\n",
       "      <td>['2018 Golden Geek Best Board Game Artwork &amp; P...</td>\n",
       "      <td>['Economic', 'Industry / Manufacturing', 'Tran...</td>\n",
       "      <td>['English deluxe edition', 'English retail edi...</td>\n",
       "      <td>['Hand Management', 'Income', 'Loans', 'Market...</td>\n",
       "      <td>['None']</td>\n",
       "      <td>['Beer', 'Brass', 'Cities: Birmingham (England...</td>\n",
       "      <td>/boardgame/224517/brass-birmingham</td>\n",
       "      <td>224517</td>\n",
       "      <td>Brass  Birmingham</td>\n",
       "      <td>2018</td>\n",
       "      <td>5</td>\n",
       "      <td>2</td>\n",
       "      <td>4</td>\n",
       "      <td>60</td>\n",
       "      <td>120</td>\n",
       "      <td>14</td>\n",
       "    </tr>\n",
       "  </tbody>\n",
       "</table>\n",
       "</div>"
      ],
      "text/plain": [
       "   objectid  min_community  max_community  totalvotes playerage  \\\n",
       "0    174430            3.0            4.0       827.0        14   \n",
       "1    161936            4.0            4.0       549.0        12   \n",
       "2    167791            3.0            4.0      1252.0        12   \n",
       "3    182028            3.0            4.0       436.0        14   \n",
       "4    224517            3.0            4.0       242.0        14   \n",
       "\n",
       "   languagedependence  usersrated  average  baverage   stddev  avgweight  \\\n",
       "0                   4     31254.0  8.85292   8.58424  1.59819     3.8078   \n",
       "1                   4     34729.0  8.62499   8.47159  1.59463     2.8301   \n",
       "2                   3     48339.0  8.42299   8.26781  1.36938     3.2313   \n",
       "3                   4     18269.0  8.49419   8.23513  1.49542     4.3850   \n",
       "4                   1     10070.0  8.62031   8.20459  1.22876     3.9122   \n",
       "\n",
       "   numweights  numgeeklists  numtrading  numwanting  numcomments  siteviews  \\\n",
       "0        1311          3657         313        1365         5972    8933078   \n",
       "1         971          3612         272         771         5477    2971746   \n",
       "2        1863          5941         277        2068         7274    4724387   \n",
       "3         891          2083         280        1049         2660    2448074   \n",
       "4         467          1039          37        1077         1702     894621   \n",
       "\n",
       "   numplays  numplays_month  news  blogs  weblink  podcast  objectid  \\\n",
       "0    230213            3478     7    471       31      139    174430   \n",
       "1    196621            1090     9    597       69      164    161936   \n",
       "2    245997            4380    14   1158       60      148    167791   \n",
       "3     54284             511     5    185       30       42    182028   \n",
       "4     23336             815     3    124       13       21    224517   \n",
       "\n",
       "   boardgamedesigner_cnt  boardgameartist_cnt  boardgamepublisher_cnt  \\\n",
       "0                      1                    3                       9   \n",
       "1                      2                    1                      11   \n",
       "2                      1                    1                      20   \n",
       "3                      1                    4                      13   \n",
       "4                      3                    3                       8   \n",
       "\n",
       "   boardgamehonor_cnt  boardgamecategory_cnt  boardgamemechanic_cnt  \\\n",
       "0                  23                      5                     12   \n",
       "1                  20                      2                      8   \n",
       "2                  20                      6                      9   \n",
       "3                   3                      3                      5   \n",
       "4                   6                      3                      8   \n",
       "\n",
       "   boardgameexpansion_cnt  boardgameversion_cnt  boardgamefamily_cnt  \\\n",
       "0                       4                    19                    7   \n",
       "1                       0                    33                    3   \n",
       "2                      15                    29                    6   \n",
       "3                       1                    14                    2   \n",
       "4                       0                     9                    6   \n",
       "\n",
       "                                   boardgamedesigner  \\\n",
       "0                                ['Isaac Childres\"']   \n",
       "1                   ['Rob Daviau\"', 'Matt Leacock\"']   \n",
       "2                               ['Jacob Fryxelius\"']   \n",
       "3                          ['Vlaada Chv\\\\u00e1til\"']   \n",
       "4  ['Gavan Brown\"', 'Matt Tolman\"', 'Martin Walla...   \n",
       "\n",
       "                                     boardgameartist  \\\n",
       "0  ['Alexandr Elichev', 'Josh T. McDowell', 'Alva...   \n",
       "1                                ['Chris Quilliams']   \n",
       "2                                ['Isaac Fryxelius']   \n",
       "3  ['Filip Murmak', 'Radim Pech', 'Jakub Politzer...   \n",
       "4  ['Lina Cossette', 'David Forest', 'Damien Mamm...   \n",
       "\n",
       "                                  boardgamepublisher  \\\n",
       "0  ['Cephalofair Games', 'Albi', 'Asmodee', 'Feue...   \n",
       "1  ['Z-Man Games', 'Asterion Press', 'Devir', 'Fi...   \n",
       "2  ['FryxGames', 'Arclight', 'Fantasmagoria', 'Gh...   \n",
       "3  ['Czech Games Edition', 'Cranio Creations', 'D...   \n",
       "4  ['Roxley', 'BoardM Factory', 'Conclave Editora...   \n",
       "\n",
       "                                      boardgamehonor  \\\n",
       "0  ['2017 Best Science Fiction or Fantasy Board G...   \n",
       "1  ['2015 Cardboard Republic Immersionist Laurel ...   \n",
       "2  ['2016 Cardboard Republic Architect Laurel Nom...   \n",
       "3  ['2015 Golden Geek Best Strategy Board Game No...   \n",
       "4  ['2018 Golden Geek Best Board Game Artwork & P...   \n",
       "\n",
       "                                   boardgamecategory  \\\n",
       "0  ['Adventure', 'Exploration', 'Fantasy', 'Fight...   \n",
       "1                       ['Environmental', 'Medical']   \n",
       "2  ['Economic', 'Environmental', 'Industry / Manu...   \n",
       "3          ['Card Game', 'Civilization', 'Economic']   \n",
       "4  ['Economic', 'Industry / Manufacturing', 'Tran...   \n",
       "\n",
       "                                    boardgameversion  \\\n",
       "0  ['Chinese edition', 'Czech edition', 'English ...   \n",
       "1  ['Chinese blue edition', 'Chinese red edition'...   \n",
       "2  ['Bulgarian edition', 'Chinese edition', 'Czec...   \n",
       "3  ['Chinese edition', 'Czech edition', 'English ...   \n",
       "4  ['English deluxe edition', 'English retail edi...   \n",
       "\n",
       "                                   boardgamemechanic  \\\n",
       "0  ['Campaign / Battle Card Driven', 'Cooperative...   \n",
       "1  ['Action Points', 'Cooperative Game', 'Hand Ma...   \n",
       "2  ['Card Drafting', 'End Game Bonuses', 'Hand Ma...   \n",
       "3  ['Action Points', 'Auction/Bidding', 'Auction:...   \n",
       "4  ['Hand Management', 'Income', 'Loans', 'Market...   \n",
       "\n",
       "                                  boardgameexpansion  \\\n",
       "0  ['Gloomhaven: Forgotten Circles', 'Gloomhaven:...   \n",
       "1                                           ['None']   \n",
       "2  ['French Championship Promo Cards (fan expansi...   \n",
       "3      ['Through the Ages: New Leaders and Wonders']   \n",
       "4                                           ['None']   \n",
       "\n",
       "                                     boardgamefamily  \\\n",
       "0  ['Campaign Games', 'Components: Miniatures', '...   \n",
       "1           ['Campaign Games', 'Legacy', 'Pandemic']   \n",
       "2  ['Fryxgames Future Timeline', 'Planets: Mars',...   \n",
       "3           ['Tableau Building', 'Through the Ages']   \n",
       "4  ['Beer', 'Brass', 'Cities: Birmingham (England...   \n",
       "\n",
       "                                            gamelink  object_id  \\\n",
       "0                       /boardgame/174430/gloomhaven     174430   \n",
       "1         /boardgame/161936/pandemic-legacy-season-1     161936   \n",
       "2                /boardgame/167791/terraforming-mars     167791   \n",
       "3  /boardgame/182028/through-ages-new-story-civil...     182028   \n",
       "4                 /boardgame/224517/brass-birmingham     224517   \n",
       "\n",
       "                                            name  yearpublished  sortindex  \\\n",
       "0                                     Gloomhaven           2017          1   \n",
       "1                      Pandemic Legacy  Season 1           2015          2   \n",
       "2                              Terraforming Mars           2016          3   \n",
       "3  Through the Ages  A New Story of Civilization           2015          4   \n",
       "4                              Brass  Birmingham           2018          5   \n",
       "\n",
       "   minplayers  maxplayers  minplaytime  maxplaytime  minage  \n",
       "0           1           4           60          120      12  \n",
       "1           2           4           60           60      13  \n",
       "2           1           5          120          120      12  \n",
       "3           2           4          120          120      14  \n",
       "4           2           4           60          120      14  "
      ]
     },
     "execution_count": 402,
     "metadata": {},
     "output_type": "execute_result"
    }
   ],
   "source": [
    "df.head()"
   ]
  },
  {
   "cell_type": "code",
   "execution_count": 403,
   "metadata": {},
   "outputs": [
    {
     "data": {
      "text/plain": [
       "objectid                     0\n",
       "min_community             5859\n",
       "max_community             5197\n",
       "totalvotes                  96\n",
       "playerage                   97\n",
       "languagedependence           0\n",
       "usersrated                  97\n",
       "average                     97\n",
       "baverage                    96\n",
       "stddev                       0\n",
       "avgweight                    0\n",
       "numweights                   0\n",
       "numgeeklists                 0\n",
       "numtrading                   0\n",
       "numwanting                   0\n",
       "numcomments                  0\n",
       "siteviews                    0\n",
       "numplays                     0\n",
       "numplays_month               0\n",
       "news                         0\n",
       "blogs                        0\n",
       "weblink                      0\n",
       "podcast                      0\n",
       "objectid                     0\n",
       "boardgamedesigner_cnt        0\n",
       "boardgameartist_cnt          0\n",
       "boardgamepublisher_cnt       0\n",
       "boardgamehonor_cnt           0\n",
       "boardgamecategory_cnt        0\n",
       "boardgamemechanic_cnt        0\n",
       "boardgameexpansion_cnt       0\n",
       "boardgameversion_cnt         0\n",
       "boardgamefamily_cnt          0\n",
       "boardgamedesigner            0\n",
       "boardgameartist              0\n",
       "boardgamepublisher           0\n",
       "boardgamehonor               0\n",
       "boardgamecategory            0\n",
       "boardgameversion             0\n",
       "boardgamemechanic            0\n",
       "boardgameexpansion           0\n",
       "boardgamefamily              0\n",
       "gamelink                     0\n",
       "object_id                    0\n",
       "name                         0\n",
       "yearpublished                0\n",
       "sortindex                    0\n",
       "minplayers                   0\n",
       "maxplayers                   0\n",
       "minplaytime                  0\n",
       "maxplaytime                  0\n",
       "minage                       0\n",
       "dtype: int64"
      ]
     },
     "execution_count": 403,
     "metadata": {},
     "output_type": "execute_result"
    }
   ],
   "source": [
    "df.isnull().sum()"
   ]
  },
  {
   "cell_type": "code",
   "execution_count": 399,
   "metadata": {},
   "outputs": [
    {
     "data": {
      "text/html": [
       "<div>\n",
       "<style scoped>\n",
       "    .dataframe tbody tr th:only-of-type {\n",
       "        vertical-align: middle;\n",
       "    }\n",
       "\n",
       "    .dataframe tbody tr th {\n",
       "        vertical-align: top;\n",
       "    }\n",
       "\n",
       "    .dataframe thead th {\n",
       "        text-align: right;\n",
       "    }\n",
       "</style>\n",
       "<table border=\"1\" class=\"dataframe\">\n",
       "  <thead>\n",
       "    <tr style=\"text-align: right;\">\n",
       "      <th></th>\n",
       "      <th>objectid</th>\n",
       "      <th>min_community</th>\n",
       "      <th>max_community</th>\n",
       "      <th>totalvotes</th>\n",
       "      <th>playerage</th>\n",
       "      <th>languagedependence</th>\n",
       "      <th>usersrated</th>\n",
       "      <th>average</th>\n",
       "      <th>baverage</th>\n",
       "      <th>stddev</th>\n",
       "      <th>avgweight</th>\n",
       "      <th>numweights</th>\n",
       "      <th>numgeeklists</th>\n",
       "      <th>numtrading</th>\n",
       "      <th>numwanting</th>\n",
       "      <th>numcomments</th>\n",
       "      <th>siteviews</th>\n",
       "      <th>numplays</th>\n",
       "      <th>numplays_month</th>\n",
       "      <th>news</th>\n",
       "      <th>blogs</th>\n",
       "      <th>weblink</th>\n",
       "      <th>podcast</th>\n",
       "      <th>objectid</th>\n",
       "      <th>boardgamedesigner_cnt</th>\n",
       "      <th>boardgameartist_cnt</th>\n",
       "      <th>boardgamepublisher_cnt</th>\n",
       "      <th>boardgamehonor_cnt</th>\n",
       "      <th>boardgamecategory_cnt</th>\n",
       "      <th>boardgamemechanic_cnt</th>\n",
       "      <th>boardgameexpansion_cnt</th>\n",
       "      <th>boardgameversion_cnt</th>\n",
       "      <th>boardgamefamily_cnt</th>\n",
       "      <th>boardgamedesigner</th>\n",
       "      <th>boardgameartist</th>\n",
       "      <th>boardgamepublisher</th>\n",
       "      <th>boardgamehonor</th>\n",
       "      <th>boardgamecategory</th>\n",
       "      <th>boardgameversion</th>\n",
       "      <th>boardgamemechanic</th>\n",
       "      <th>boardgameexpansion</th>\n",
       "      <th>boardgamefamily</th>\n",
       "      <th>gamelink</th>\n",
       "      <th>object_id</th>\n",
       "      <th>name</th>\n",
       "      <th>yearpublished</th>\n",
       "      <th>sortindex</th>\n",
       "      <th>minplayers</th>\n",
       "      <th>maxplayers</th>\n",
       "      <th>minplaytime</th>\n",
       "      <th>maxplaytime</th>\n",
       "      <th>minage</th>\n",
       "    </tr>\n",
       "  </thead>\n",
       "  <tbody>\n",
       "    <tr>\n",
       "      <th>353</th>\n",
       "      <td>171668</td>\n",
       "      <td>4.0</td>\n",
       "      <td>5.0</td>\n",
       "      <td>142.0</td>\n",
       "      <td>10</td>\n",
       "      <td>2</td>\n",
       "      <td>NaN</td>\n",
       "      <td>7.23252</td>\n",
       "      <td>7.01356</td>\n",
       "      <td>1.25886</td>\n",
       "      <td>1.9200</td>\n",
       "      <td>275</td>\n",
       "      <td>1997</td>\n",
       "      <td>492</td>\n",
       "      <td>358</td>\n",
       "      <td>2042</td>\n",
       "      <td>526373</td>\n",
       "      <td>46614</td>\n",
       "      <td>173</td>\n",
       "      <td>5</td>\n",
       "      <td>173</td>\n",
       "      <td>39</td>\n",
       "      <td>55</td>\n",
       "      <td>171668</td>\n",
       "      <td>2</td>\n",
       "      <td>1</td>\n",
       "      <td>9</td>\n",
       "      <td>7</td>\n",
       "      <td>2</td>\n",
       "      <td>5</td>\n",
       "      <td>1</td>\n",
       "      <td>13</td>\n",
       "      <td>1</td>\n",
       "      <td>['Fabien Riffaud\"', 'Juan Rodriguez\"']</td>\n",
       "      <td>['Tignous']</td>\n",
       "      <td>['Sweet Games', 'BoardM Factory', 'CMON Limite...</td>\n",
       "      <td>['2015 Cardboard Republic Daredevil Laurel Nom...</td>\n",
       "      <td>['Card Game', 'World War I']</td>\n",
       "      <td>['English first edition', 'English second edit...</td>\n",
       "      <td>['Communication Limits', 'Cooperative Game', '...</td>\n",
       "      <td>['The Grizzled: At Your Orders!']</td>\n",
       "      <td>['The Grizzled']</td>\n",
       "      <td>/boardgame/171668/grizzled</td>\n",
       "      <td>171668</td>\n",
       "      <td>The Grizzled</td>\n",
       "      <td>2015</td>\n",
       "      <td>354</td>\n",
       "      <td>2</td>\n",
       "      <td>5</td>\n",
       "      <td>30</td>\n",
       "      <td>30</td>\n",
       "      <td>14</td>\n",
       "    </tr>\n",
       "    <tr>\n",
       "      <th>437</th>\n",
       "      <td>271896</td>\n",
       "      <td>3.0</td>\n",
       "      <td>4.0</td>\n",
       "      <td>80.0</td>\n",
       "      <td>10</td>\n",
       "      <td>4</td>\n",
       "      <td>NaN</td>\n",
       "      <td>7.79597</td>\n",
       "      <td>6.92466</td>\n",
       "      <td>1.37628</td>\n",
       "      <td>2.4592</td>\n",
       "      <td>98</td>\n",
       "      <td>314</td>\n",
       "      <td>42</td>\n",
       "      <td>439</td>\n",
       "      <td>530</td>\n",
       "      <td>403456</td>\n",
       "      <td>6479</td>\n",
       "      <td>357</td>\n",
       "      <td>1</td>\n",
       "      <td>28</td>\n",
       "      <td>8</td>\n",
       "      <td>11</td>\n",
       "      <td>271896</td>\n",
       "      <td>2</td>\n",
       "      <td>49</td>\n",
       "      <td>8</td>\n",
       "      <td>0</td>\n",
       "      <td>5</td>\n",
       "      <td>5</td>\n",
       "      <td>0</td>\n",
       "      <td>9</td>\n",
       "      <td>2</td>\n",
       "      <td>['Corey Konieczka\"', 'Tony Fanchi\"']</td>\n",
       "      <td>['Borja Pindado Arribas', 'Balaskas', 'Tiziano...</td>\n",
       "      <td>['Fantasy Flight Games', 'ADC Blackfire Entert...</td>\n",
       "      <td>['None']</td>\n",
       "      <td>['Adventure', 'Exploration', 'Movies / TV / Ra...</td>\n",
       "      <td>['Czech edition', 'English edition', 'French e...</td>\n",
       "      <td>['Dice Rolling', 'Modular Board', 'Pick-up and...</td>\n",
       "      <td>['None']</td>\n",
       "      <td>['Solitaire Games', 'Star Wars']</td>\n",
       "      <td>/boardgame/271896/star-wars-outer-rim</td>\n",
       "      <td>271896</td>\n",
       "      <td>Star Wars  Outer Rim</td>\n",
       "      <td>2019</td>\n",
       "      <td>438</td>\n",
       "      <td>1</td>\n",
       "      <td>4</td>\n",
       "      <td>120</td>\n",
       "      <td>180</td>\n",
       "      <td>14</td>\n",
       "    </tr>\n",
       "    <tr>\n",
       "      <th>479</th>\n",
       "      <td>216734</td>\n",
       "      <td>2.0</td>\n",
       "      <td>4.0</td>\n",
       "      <td>44.0</td>\n",
       "      <td>8</td>\n",
       "      <td>3</td>\n",
       "      <td>NaN</td>\n",
       "      <td>7.75384</td>\n",
       "      <td>6.87890</td>\n",
       "      <td>1.52580</td>\n",
       "      <td>2.0588</td>\n",
       "      <td>51</td>\n",
       "      <td>357</td>\n",
       "      <td>100</td>\n",
       "      <td>232</td>\n",
       "      <td>770</td>\n",
       "      <td>265538</td>\n",
       "      <td>11067</td>\n",
       "      <td>119</td>\n",
       "      <td>1</td>\n",
       "      <td>25</td>\n",
       "      <td>8</td>\n",
       "      <td>8</td>\n",
       "      <td>216734</td>\n",
       "      <td>2</td>\n",
       "      <td>1</td>\n",
       "      <td>2</td>\n",
       "      <td>0</td>\n",
       "      <td>4</td>\n",
       "      <td>4</td>\n",
       "      <td>2</td>\n",
       "      <td>3</td>\n",
       "      <td>2</td>\n",
       "      <td>['Nate Chatellier\"', 'Manny Trembley\"']</td>\n",
       "      <td>['Manny Trembley']</td>\n",
       "      <td>['Mind Bottling Games', 'Roxley']</td>\n",
       "      <td>['None']</td>\n",
       "      <td>['Card Game', 'Dice', 'Fantasy', 'Fighting']</td>\n",
       "      <td>['Champion deluxe edition', 'Retail edition', ...</td>\n",
       "      <td>['Dice Rolling', 'Take That', 'Team-Based Game...</td>\n",
       "      <td>['Dice Throne Adventures', 'Dice Throne: Promo...</td>\n",
       "      <td>['Crowdfunding: Kickstarter', 'Dice Throne']</td>\n",
       "      <td>/boardgame/216734/dice-throne-season-one</td>\n",
       "      <td>216734</td>\n",
       "      <td>Dice Throne  Season One</td>\n",
       "      <td>2018</td>\n",
       "      <td>480</td>\n",
       "      <td>2</td>\n",
       "      <td>6</td>\n",
       "      <td>20</td>\n",
       "      <td>40</td>\n",
       "      <td>8</td>\n",
       "    </tr>\n",
       "    <tr>\n",
       "      <th>681</th>\n",
       "      <td>171669</td>\n",
       "      <td>3.0</td>\n",
       "      <td>4.0</td>\n",
       "      <td>63.0</td>\n",
       "      <td>10</td>\n",
       "      <td>1</td>\n",
       "      <td>NaN</td>\n",
       "      <td>7.11733</td>\n",
       "      <td>6.70614</td>\n",
       "      <td>1.13213</td>\n",
       "      <td>2.3697</td>\n",
       "      <td>165</td>\n",
       "      <td>1375</td>\n",
       "      <td>247</td>\n",
       "      <td>193</td>\n",
       "      <td>844</td>\n",
       "      <td>266721</td>\n",
       "      <td>11328</td>\n",
       "      <td>42</td>\n",
       "      <td>5</td>\n",
       "      <td>78</td>\n",
       "      <td>43</td>\n",
       "      <td>20</td>\n",
       "      <td>171669</td>\n",
       "      <td>1</td>\n",
       "      <td>1</td>\n",
       "      <td>4</td>\n",
       "      <td>1</td>\n",
       "      <td>2</td>\n",
       "      <td>4</td>\n",
       "      <td>0</td>\n",
       "      <td>7</td>\n",
       "      <td>2</td>\n",
       "      <td>['C\\\\u00e9drick Chaboussit\"']</td>\n",
       "      <td>['Vincent Dutrait']</td>\n",
       "      <td>['Ludonaute', 'Asterion Press', 'Meeple BR Jog...</td>\n",
       "      <td>['2015 Golden Geek Best Board Game Artwork/Pre...</td>\n",
       "      <td>['American West', 'Dice']</td>\n",
       "      <td>['English edition', 'French edition', 'German ...</td>\n",
       "      <td>['Deck', 'Dice Rolling', 'Set Collection', 'Wo...</td>\n",
       "      <td>['None']</td>\n",
       "      <td>['Historical Figures:  Lewis &amp; Clark', 'Native...</td>\n",
       "      <td>/boardgame/171669/discoveries-journals-lewis-a...</td>\n",
       "      <td>171669</td>\n",
       "      <td>Discoveries  The Journals of Lewis and Clark</td>\n",
       "      <td>2015</td>\n",
       "      <td>682</td>\n",
       "      <td>2</td>\n",
       "      <td>4</td>\n",
       "      <td>60</td>\n",
       "      <td>60</td>\n",
       "      <td>14</td>\n",
       "    </tr>\n",
       "    <tr>\n",
       "      <th>1254</th>\n",
       "      <td>8098</td>\n",
       "      <td>5.0</td>\n",
       "      <td>8.0</td>\n",
       "      <td>105.0</td>\n",
       "      <td>6</td>\n",
       "      <td>1</td>\n",
       "      <td>NaN</td>\n",
       "      <td>6.52259</td>\n",
       "      <td>6.34343</td>\n",
       "      <td>1.51281</td>\n",
       "      <td>1.1417</td>\n",
       "      <td>628</td>\n",
       "      <td>1727</td>\n",
       "      <td>245</td>\n",
       "      <td>74</td>\n",
       "      <td>2094</td>\n",
       "      <td>479865</td>\n",
       "      <td>41583</td>\n",
       "      <td>181</td>\n",
       "      <td>4</td>\n",
       "      <td>31</td>\n",
       "      <td>58</td>\n",
       "      <td>11</td>\n",
       "      <td>8098</td>\n",
       "      <td>2</td>\n",
       "      <td>3</td>\n",
       "      <td>27</td>\n",
       "      <td>2</td>\n",
       "      <td>4</td>\n",
       "      <td>1</td>\n",
       "      <td>2</td>\n",
       "      <td>52</td>\n",
       "      <td>1</td>\n",
       "      <td>['Thomas Vuarchex\"', 'Pierrick Yakovenko\"']</td>\n",
       "      <td>['Franz Vohwinkel', 'Thomas Vuarchex', 'Pierri...</td>\n",
       "      <td>['Asmodee', 'ADC Blackfire Entertainment', 'As...</td>\n",
       "      <td>['2003 Kinderspielexperten 8-to-13-year-olds N...</td>\n",
       "      <td>['Action / Dexterity', 'Card Game', 'Party Gam...</td>\n",
       "      <td>['Asmodee Dutch/French deluxe edition with woo...</td>\n",
       "      <td>['Pattern Recognition']</td>\n",
       "      <td>['Jungle Speed: Mini-extension inu00e9dite', '...</td>\n",
       "      <td>['Jungle Speed Series']</td>\n",
       "      <td>/boardgame/8098/jungle-speed</td>\n",
       "      <td>8098</td>\n",
       "      <td>Jungle Speed</td>\n",
       "      <td>1997</td>\n",
       "      <td>1255</td>\n",
       "      <td>2</td>\n",
       "      <td>8</td>\n",
       "      <td>10</td>\n",
       "      <td>10</td>\n",
       "      <td>7</td>\n",
       "    </tr>\n",
       "    <tr>\n",
       "      <th>...</th>\n",
       "      <td>...</td>\n",
       "      <td>...</td>\n",
       "      <td>...</td>\n",
       "      <td>...</td>\n",
       "      <td>...</td>\n",
       "      <td>...</td>\n",
       "      <td>...</td>\n",
       "      <td>...</td>\n",
       "      <td>...</td>\n",
       "      <td>...</td>\n",
       "      <td>...</td>\n",
       "      <td>...</td>\n",
       "      <td>...</td>\n",
       "      <td>...</td>\n",
       "      <td>...</td>\n",
       "      <td>...</td>\n",
       "      <td>...</td>\n",
       "      <td>...</td>\n",
       "      <td>...</td>\n",
       "      <td>...</td>\n",
       "      <td>...</td>\n",
       "      <td>...</td>\n",
       "      <td>...</td>\n",
       "      <td>...</td>\n",
       "      <td>...</td>\n",
       "      <td>...</td>\n",
       "      <td>...</td>\n",
       "      <td>...</td>\n",
       "      <td>...</td>\n",
       "      <td>...</td>\n",
       "      <td>...</td>\n",
       "      <td>...</td>\n",
       "      <td>...</td>\n",
       "      <td>...</td>\n",
       "      <td>...</td>\n",
       "      <td>...</td>\n",
       "      <td>...</td>\n",
       "      <td>...</td>\n",
       "      <td>...</td>\n",
       "      <td>...</td>\n",
       "      <td>...</td>\n",
       "      <td>...</td>\n",
       "      <td>...</td>\n",
       "      <td>...</td>\n",
       "      <td>...</td>\n",
       "      <td>...</td>\n",
       "      <td>...</td>\n",
       "      <td>...</td>\n",
       "      <td>...</td>\n",
       "      <td>...</td>\n",
       "      <td>...</td>\n",
       "      <td>...</td>\n",
       "    </tr>\n",
       "    <tr>\n",
       "      <th>19304</th>\n",
       "      <td>3665</td>\n",
       "      <td>NaN</td>\n",
       "      <td>NaN</td>\n",
       "      <td>0.0</td>\n",
       "      <td>(no votes)</td>\n",
       "      <td>0</td>\n",
       "      <td>NaN</td>\n",
       "      <td>5.33103</td>\n",
       "      <td>0.00000</td>\n",
       "      <td>1.36662</td>\n",
       "      <td>2.0000</td>\n",
       "      <td>9</td>\n",
       "      <td>32</td>\n",
       "      <td>5</td>\n",
       "      <td>6</td>\n",
       "      <td>22</td>\n",
       "      <td>9788</td>\n",
       "      <td>26</td>\n",
       "      <td>0</td>\n",
       "      <td>0</td>\n",
       "      <td>0</td>\n",
       "      <td>1</td>\n",
       "      <td>0</td>\n",
       "      <td>3665</td>\n",
       "      <td>1</td>\n",
       "      <td>0</td>\n",
       "      <td>1</td>\n",
       "      <td>0</td>\n",
       "      <td>2</td>\n",
       "      <td>4</td>\n",
       "      <td>0</td>\n",
       "      <td>0</td>\n",
       "      <td>1</td>\n",
       "      <td>['Marc F. Houde\"']</td>\n",
       "      <td>['Marc F. Houde']</td>\n",
       "      <td>['Omni Gaming Products']</td>\n",
       "      <td>['None']</td>\n",
       "      <td>['Humor', 'Sports']</td>\n",
       "      <td>['Area Movement', 'Card Drafting', 'Hand Manag...</td>\n",
       "      <td>['Area Movement', 'Card Drafting', 'Hand Manag...</td>\n",
       "      <td>['None']</td>\n",
       "      <td>['Sports: Combat Sports / Martial Arts']</td>\n",
       "      <td>/boardgame/3665/sumo-arena</td>\n",
       "      <td>3665</td>\n",
       "      <td>Sumo Arena</td>\n",
       "      <td>2001</td>\n",
       "      <td>19305</td>\n",
       "      <td>2</td>\n",
       "      <td>7</td>\n",
       "      <td>20</td>\n",
       "      <td>20</td>\n",
       "      <td>6</td>\n",
       "    </tr>\n",
       "    <tr>\n",
       "      <th>19433</th>\n",
       "      <td>3953</td>\n",
       "      <td>NaN</td>\n",
       "      <td>NaN</td>\n",
       "      <td>0.0</td>\n",
       "      <td>(no votes)</td>\n",
       "      <td>2</td>\n",
       "      <td>NaN</td>\n",
       "      <td>4.89286</td>\n",
       "      <td>0.00000</td>\n",
       "      <td>1.74375</td>\n",
       "      <td>1.5000</td>\n",
       "      <td>2</td>\n",
       "      <td>26</td>\n",
       "      <td>6</td>\n",
       "      <td>3</td>\n",
       "      <td>16</td>\n",
       "      <td>12147</td>\n",
       "      <td>36</td>\n",
       "      <td>0</td>\n",
       "      <td>0</td>\n",
       "      <td>0</td>\n",
       "      <td>1</td>\n",
       "      <td>0</td>\n",
       "      <td>3953</td>\n",
       "      <td>2</td>\n",
       "      <td>0</td>\n",
       "      <td>1</td>\n",
       "      <td>0</td>\n",
       "      <td>1</td>\n",
       "      <td>2</td>\n",
       "      <td>0</td>\n",
       "      <td>2</td>\n",
       "      <td>0</td>\n",
       "      <td>['Thomas Housley\"', 'Marion E. Stringer\"']</td>\n",
       "      <td>['Thomas Housley', 'Marion E. Stringer']</td>\n",
       "      <td>['Selchow &amp; Righter']</td>\n",
       "      <td>['None']</td>\n",
       "      <td>['Economic']</td>\n",
       "      <td>['English first edition', 'English second edit...</td>\n",
       "      <td>['Roll / Spin and Move', 'Set Collection']</td>\n",
       "      <td>['None']</td>\n",
       "      <td>['English first edition', 'English second edit...</td>\n",
       "      <td>/boardgame/3953/assembly-line</td>\n",
       "      <td>3953</td>\n",
       "      <td>Assembly Line</td>\n",
       "      <td>1953</td>\n",
       "      <td>19434</td>\n",
       "      <td>2</td>\n",
       "      <td>4</td>\n",
       "      <td>45</td>\n",
       "      <td>45</td>\n",
       "      <td>4</td>\n",
       "    </tr>\n",
       "    <tr>\n",
       "      <th>19504</th>\n",
       "      <td>4135</td>\n",
       "      <td>NaN</td>\n",
       "      <td>NaN</td>\n",
       "      <td>0.0</td>\n",
       "      <td>(no votes)</td>\n",
       "      <td>0</td>\n",
       "      <td>NaN</td>\n",
       "      <td>7.21985</td>\n",
       "      <td>5.71101</td>\n",
       "      <td>1.54159</td>\n",
       "      <td>2.8462</td>\n",
       "      <td>13</td>\n",
       "      <td>26</td>\n",
       "      <td>16</td>\n",
       "      <td>19</td>\n",
       "      <td>55</td>\n",
       "      <td>23083</td>\n",
       "      <td>28</td>\n",
       "      <td>0</td>\n",
       "      <td>0</td>\n",
       "      <td>2</td>\n",
       "      <td>0</td>\n",
       "      <td>0</td>\n",
       "      <td>4135</td>\n",
       "      <td>2</td>\n",
       "      <td>3</td>\n",
       "      <td>1</td>\n",
       "      <td>0</td>\n",
       "      <td>5</td>\n",
       "      <td>1</td>\n",
       "      <td>0</td>\n",
       "      <td>1</td>\n",
       "      <td>1</td>\n",
       "      <td>['Andy Jones\"', 'Bill King\"']</td>\n",
       "      <td>['Dave Andrews', 'David Gallagher', 'Mark Gibb...</td>\n",
       "      <td>['Games Workshop Ltd.']</td>\n",
       "      <td>['None']</td>\n",
       "      <td>['Expansion for Base-game', 'Fantasy', 'Miniat...</td>\n",
       "      <td>['First edition']</td>\n",
       "      <td>['Variable Player Powers']</td>\n",
       "      <td>['None']</td>\n",
       "      <td>['Warhammer Fantasy Wargames']</td>\n",
       "      <td>/boardgameexpansion/4135/man-o-war-sea-blood</td>\n",
       "      <td>4135</td>\n",
       "      <td>Man O' War  Sea of Blood</td>\n",
       "      <td>1994</td>\n",
       "      <td>19505</td>\n",
       "      <td>2</td>\n",
       "      <td>8</td>\n",
       "      <td>180</td>\n",
       "      <td>180</td>\n",
       "      <td>12</td>\n",
       "    </tr>\n",
       "    <tr>\n",
       "      <th>19572</th>\n",
       "      <td>4334</td>\n",
       "      <td>NaN</td>\n",
       "      <td>NaN</td>\n",
       "      <td>0.0</td>\n",
       "      <td>(no votes)</td>\n",
       "      <td>0</td>\n",
       "      <td>NaN</td>\n",
       "      <td>3.66667</td>\n",
       "      <td>0.00000</td>\n",
       "      <td>1.76383</td>\n",
       "      <td>1.5000</td>\n",
       "      <td>2</td>\n",
       "      <td>7</td>\n",
       "      <td>6</td>\n",
       "      <td>0</td>\n",
       "      <td>6</td>\n",
       "      <td>5690</td>\n",
       "      <td>5</td>\n",
       "      <td>0</td>\n",
       "      <td>0</td>\n",
       "      <td>0</td>\n",
       "      <td>1</td>\n",
       "      <td>0</td>\n",
       "      <td>4334</td>\n",
       "      <td>1</td>\n",
       "      <td>0</td>\n",
       "      <td>1</td>\n",
       "      <td>0</td>\n",
       "      <td>3</td>\n",
       "      <td>1</td>\n",
       "      <td>0</td>\n",
       "      <td>1</td>\n",
       "      <td>0</td>\n",
       "      <td>['David Ferris\"']</td>\n",
       "      <td>['David Ferris']</td>\n",
       "      <td>['DIPCo']</td>\n",
       "      <td>['None']</td>\n",
       "      <td>['Humor', 'Modern Warfare', 'Wargame']</td>\n",
       "      <td>['First edition']</td>\n",
       "      <td>['Hexagon Grid']</td>\n",
       "      <td>['None']</td>\n",
       "      <td>['Napoleon at Chattanooga']</td>\n",
       "      <td>/boardgame/4334/chart-wars</td>\n",
       "      <td>4334</td>\n",
       "      <td>Chart Wars</td>\n",
       "      <td>1992</td>\n",
       "      <td>19573</td>\n",
       "      <td>2</td>\n",
       "      <td>2</td>\n",
       "      <td>60</td>\n",
       "      <td>60</td>\n",
       "      <td>10</td>\n",
       "    </tr>\n",
       "    <tr>\n",
       "      <th>19972</th>\n",
       "      <td>5118</td>\n",
       "      <td>2.0</td>\n",
       "      <td>2.0</td>\n",
       "      <td>1.0</td>\n",
       "      <td>(no votes)</td>\n",
       "      <td>0</td>\n",
       "      <td>NaN</td>\n",
       "      <td>5.99050</td>\n",
       "      <td>0.00000</td>\n",
       "      <td>1.15985</td>\n",
       "      <td>1.2000</td>\n",
       "      <td>5</td>\n",
       "      <td>49</td>\n",
       "      <td>12</td>\n",
       "      <td>3</td>\n",
       "      <td>28</td>\n",
       "      <td>10239</td>\n",
       "      <td>39</td>\n",
       "      <td>0</td>\n",
       "      <td>0</td>\n",
       "      <td>0</td>\n",
       "      <td>0</td>\n",
       "      <td>0</td>\n",
       "      <td>5118</td>\n",
       "      <td>1</td>\n",
       "      <td>0</td>\n",
       "      <td>1</td>\n",
       "      <td>0</td>\n",
       "      <td>1</td>\n",
       "      <td>0</td>\n",
       "      <td>0</td>\n",
       "      <td>1</td>\n",
       "      <td>0</td>\n",
       "      <td>['(Uncredited)\"']</td>\n",
       "      <td>['(Uncredited)']</td>\n",
       "      <td>['Ideal']</td>\n",
       "      <td>['None']</td>\n",
       "      <td>['Deduction']</td>\n",
       "      <td>['First edition']</td>\n",
       "      <td>['Deduction']</td>\n",
       "      <td>['None']</td>\n",
       "      <td>['First edition']</td>\n",
       "      <td>/boardgame/5118/deduction</td>\n",
       "      <td>5118</td>\n",
       "      <td>Deduction</td>\n",
       "      <td>1976</td>\n",
       "      <td>19973</td>\n",
       "      <td>2</td>\n",
       "      <td>2</td>\n",
       "      <td>30</td>\n",
       "      <td>30</td>\n",
       "      <td>8</td>\n",
       "    </tr>\n",
       "  </tbody>\n",
       "</table>\n",
       "<p>97 rows × 52 columns</p>\n",
       "</div>"
      ],
      "text/plain": [
       "       objectid  min_community  max_community  totalvotes   playerage  \\\n",
       "353      171668            4.0            5.0       142.0          10   \n",
       "437      271896            3.0            4.0        80.0          10   \n",
       "479      216734            2.0            4.0        44.0           8   \n",
       "681      171669            3.0            4.0        63.0          10   \n",
       "1254       8098            5.0            8.0       105.0           6   \n",
       "...         ...            ...            ...         ...         ...   \n",
       "19304      3665            NaN            NaN         0.0  (no votes)   \n",
       "19433      3953            NaN            NaN         0.0  (no votes)   \n",
       "19504      4135            NaN            NaN         0.0  (no votes)   \n",
       "19572      4334            NaN            NaN         0.0  (no votes)   \n",
       "19972      5118            2.0            2.0         1.0  (no votes)   \n",
       "\n",
       "       languagedependence  usersrated  average  baverage   stddev  avgweight  \\\n",
       "353                     2         NaN  7.23252   7.01356  1.25886     1.9200   \n",
       "437                     4         NaN  7.79597   6.92466  1.37628     2.4592   \n",
       "479                     3         NaN  7.75384   6.87890  1.52580     2.0588   \n",
       "681                     1         NaN  7.11733   6.70614  1.13213     2.3697   \n",
       "1254                    1         NaN  6.52259   6.34343  1.51281     1.1417   \n",
       "...                   ...         ...      ...       ...      ...        ...   \n",
       "19304                   0         NaN  5.33103   0.00000  1.36662     2.0000   \n",
       "19433                   2         NaN  4.89286   0.00000  1.74375     1.5000   \n",
       "19504                   0         NaN  7.21985   5.71101  1.54159     2.8462   \n",
       "19572                   0         NaN  3.66667   0.00000  1.76383     1.5000   \n",
       "19972                   0         NaN  5.99050   0.00000  1.15985     1.2000   \n",
       "\n",
       "       numweights  numgeeklists  numtrading  numwanting  numcomments  \\\n",
       "353           275          1997         492         358         2042   \n",
       "437            98           314          42         439          530   \n",
       "479            51           357         100         232          770   \n",
       "681           165          1375         247         193          844   \n",
       "1254          628          1727         245          74         2094   \n",
       "...           ...           ...         ...         ...          ...   \n",
       "19304           9            32           5           6           22   \n",
       "19433           2            26           6           3           16   \n",
       "19504          13            26          16          19           55   \n",
       "19572           2             7           6           0            6   \n",
       "19972           5            49          12           3           28   \n",
       "\n",
       "       siteviews  numplays  numplays_month  news  blogs  weblink  podcast  \\\n",
       "353       526373     46614             173     5    173       39       55   \n",
       "437       403456      6479             357     1     28        8       11   \n",
       "479       265538     11067             119     1     25        8        8   \n",
       "681       266721     11328              42     5     78       43       20   \n",
       "1254      479865     41583             181     4     31       58       11   \n",
       "...          ...       ...             ...   ...    ...      ...      ...   \n",
       "19304       9788        26               0     0      0        1        0   \n",
       "19433      12147        36               0     0      0        1        0   \n",
       "19504      23083        28               0     0      2        0        0   \n",
       "19572       5690         5               0     0      0        1        0   \n",
       "19972      10239        39               0     0      0        0        0   \n",
       "\n",
       "       objectid  boardgamedesigner_cnt  boardgameartist_cnt  \\\n",
       "353      171668                      2                    1   \n",
       "437      271896                      2                   49   \n",
       "479      216734                      2                    1   \n",
       "681      171669                      1                    1   \n",
       "1254       8098                      2                    3   \n",
       "...         ...                    ...                  ...   \n",
       "19304      3665                      1                    0   \n",
       "19433      3953                      2                    0   \n",
       "19504      4135                      2                    3   \n",
       "19572      4334                      1                    0   \n",
       "19972      5118                      1                    0   \n",
       "\n",
       "       boardgamepublisher_cnt  boardgamehonor_cnt  boardgamecategory_cnt  \\\n",
       "353                         9                   7                      2   \n",
       "437                         8                   0                      5   \n",
       "479                         2                   0                      4   \n",
       "681                         4                   1                      2   \n",
       "1254                       27                   2                      4   \n",
       "...                       ...                 ...                    ...   \n",
       "19304                       1                   0                      2   \n",
       "19433                       1                   0                      1   \n",
       "19504                       1                   0                      5   \n",
       "19572                       1                   0                      3   \n",
       "19972                       1                   0                      1   \n",
       "\n",
       "       boardgamemechanic_cnt  boardgameexpansion_cnt  boardgameversion_cnt  \\\n",
       "353                        5                       1                    13   \n",
       "437                        5                       0                     9   \n",
       "479                        4                       2                     3   \n",
       "681                        4                       0                     7   \n",
       "1254                       1                       2                    52   \n",
       "...                      ...                     ...                   ...   \n",
       "19304                      4                       0                     0   \n",
       "19433                      2                       0                     2   \n",
       "19504                      1                       0                     1   \n",
       "19572                      1                       0                     1   \n",
       "19972                      0                       0                     1   \n",
       "\n",
       "       boardgamefamily_cnt                            boardgamedesigner  \\\n",
       "353                      1       ['Fabien Riffaud\"', 'Juan Rodriguez\"']   \n",
       "437                      2         ['Corey Konieczka\"', 'Tony Fanchi\"']   \n",
       "479                      2      ['Nate Chatellier\"', 'Manny Trembley\"']   \n",
       "681                      2                ['C\\\\u00e9drick Chaboussit\"']   \n",
       "1254                     1  ['Thomas Vuarchex\"', 'Pierrick Yakovenko\"']   \n",
       "...                    ...                                          ...   \n",
       "19304                    1                           ['Marc F. Houde\"']   \n",
       "19433                    0   ['Thomas Housley\"', 'Marion E. Stringer\"']   \n",
       "19504                    1                ['Andy Jones\"', 'Bill King\"']   \n",
       "19572                    0                            ['David Ferris\"']   \n",
       "19972                    0                            ['(Uncredited)\"']   \n",
       "\n",
       "                                         boardgameartist  \\\n",
       "353                                          ['Tignous']   \n",
       "437    ['Borja Pindado Arribas', 'Balaskas', 'Tiziano...   \n",
       "479                                   ['Manny Trembley']   \n",
       "681                                  ['Vincent Dutrait']   \n",
       "1254   ['Franz Vohwinkel', 'Thomas Vuarchex', 'Pierri...   \n",
       "...                                                  ...   \n",
       "19304                                  ['Marc F. Houde']   \n",
       "19433           ['Thomas Housley', 'Marion E. Stringer']   \n",
       "19504  ['Dave Andrews', 'David Gallagher', 'Mark Gibb...   \n",
       "19572                                   ['David Ferris']   \n",
       "19972                                   ['(Uncredited)']   \n",
       "\n",
       "                                      boardgamepublisher  \\\n",
       "353    ['Sweet Games', 'BoardM Factory', 'CMON Limite...   \n",
       "437    ['Fantasy Flight Games', 'ADC Blackfire Entert...   \n",
       "479                    ['Mind Bottling Games', 'Roxley']   \n",
       "681    ['Ludonaute', 'Asterion Press', 'Meeple BR Jog...   \n",
       "1254   ['Asmodee', 'ADC Blackfire Entertainment', 'As...   \n",
       "...                                                  ...   \n",
       "19304                           ['Omni Gaming Products']   \n",
       "19433                              ['Selchow & Righter']   \n",
       "19504                            ['Games Workshop Ltd.']   \n",
       "19572                                          ['DIPCo']   \n",
       "19972                                          ['Ideal']   \n",
       "\n",
       "                                          boardgamehonor  \\\n",
       "353    ['2015 Cardboard Republic Daredevil Laurel Nom...   \n",
       "437                                             ['None']   \n",
       "479                                             ['None']   \n",
       "681    ['2015 Golden Geek Best Board Game Artwork/Pre...   \n",
       "1254   ['2003 Kinderspielexperten 8-to-13-year-olds N...   \n",
       "...                                                  ...   \n",
       "19304                                           ['None']   \n",
       "19433                                           ['None']   \n",
       "19504                                           ['None']   \n",
       "19572                                           ['None']   \n",
       "19972                                           ['None']   \n",
       "\n",
       "                                       boardgamecategory  \\\n",
       "353                         ['Card Game', 'World War I']   \n",
       "437    ['Adventure', 'Exploration', 'Movies / TV / Ra...   \n",
       "479         ['Card Game', 'Dice', 'Fantasy', 'Fighting']   \n",
       "681                            ['American West', 'Dice']   \n",
       "1254   ['Action / Dexterity', 'Card Game', 'Party Gam...   \n",
       "...                                                  ...   \n",
       "19304                                ['Humor', 'Sports']   \n",
       "19433                                       ['Economic']   \n",
       "19504  ['Expansion for Base-game', 'Fantasy', 'Miniat...   \n",
       "19572             ['Humor', 'Modern Warfare', 'Wargame']   \n",
       "19972                                      ['Deduction']   \n",
       "\n",
       "                                        boardgameversion  \\\n",
       "353    ['English first edition', 'English second edit...   \n",
       "437    ['Czech edition', 'English edition', 'French e...   \n",
       "479    ['Champion deluxe edition', 'Retail edition', ...   \n",
       "681    ['English edition', 'French edition', 'German ...   \n",
       "1254   ['Asmodee Dutch/French deluxe edition with woo...   \n",
       "...                                                  ...   \n",
       "19304  ['Area Movement', 'Card Drafting', 'Hand Manag...   \n",
       "19433  ['English first edition', 'English second edit...   \n",
       "19504                                  ['First edition']   \n",
       "19572                                  ['First edition']   \n",
       "19972                                  ['First edition']   \n",
       "\n",
       "                                       boardgamemechanic  \\\n",
       "353    ['Communication Limits', 'Cooperative Game', '...   \n",
       "437    ['Dice Rolling', 'Modular Board', 'Pick-up and...   \n",
       "479    ['Dice Rolling', 'Take That', 'Team-Based Game...   \n",
       "681    ['Deck', 'Dice Rolling', 'Set Collection', 'Wo...   \n",
       "1254                             ['Pattern Recognition']   \n",
       "...                                                  ...   \n",
       "19304  ['Area Movement', 'Card Drafting', 'Hand Manag...   \n",
       "19433         ['Roll / Spin and Move', 'Set Collection']   \n",
       "19504                         ['Variable Player Powers']   \n",
       "19572                                   ['Hexagon Grid']   \n",
       "19972                                      ['Deduction']   \n",
       "\n",
       "                                      boardgameexpansion  \\\n",
       "353                    ['The Grizzled: At Your Orders!']   \n",
       "437                                             ['None']   \n",
       "479    ['Dice Throne Adventures', 'Dice Throne: Promo...   \n",
       "681                                             ['None']   \n",
       "1254   ['Jungle Speed: Mini-extension inu00e9dite', '...   \n",
       "...                                                  ...   \n",
       "19304                                           ['None']   \n",
       "19433                                           ['None']   \n",
       "19504                                           ['None']   \n",
       "19572                                           ['None']   \n",
       "19972                                           ['None']   \n",
       "\n",
       "                                         boardgamefamily  \\\n",
       "353                                     ['The Grizzled']   \n",
       "437                     ['Solitaire Games', 'Star Wars']   \n",
       "479         ['Crowdfunding: Kickstarter', 'Dice Throne']   \n",
       "681    ['Historical Figures:  Lewis & Clark', 'Native...   \n",
       "1254                             ['Jungle Speed Series']   \n",
       "...                                                  ...   \n",
       "19304           ['Sports: Combat Sports / Martial Arts']   \n",
       "19433  ['English first edition', 'English second edit...   \n",
       "19504                     ['Warhammer Fantasy Wargames']   \n",
       "19572                        ['Napoleon at Chattanooga']   \n",
       "19972                                  ['First edition']   \n",
       "\n",
       "                                                gamelink  object_id  \\\n",
       "353                           /boardgame/171668/grizzled     171668   \n",
       "437                /boardgame/271896/star-wars-outer-rim     271896   \n",
       "479             /boardgame/216734/dice-throne-season-one     216734   \n",
       "681    /boardgame/171669/discoveries-journals-lewis-a...     171669   \n",
       "1254                        /boardgame/8098/jungle-speed       8098   \n",
       "...                                                  ...        ...   \n",
       "19304                         /boardgame/3665/sumo-arena       3665   \n",
       "19433                      /boardgame/3953/assembly-line       3953   \n",
       "19504       /boardgameexpansion/4135/man-o-war-sea-blood       4135   \n",
       "19572                         /boardgame/4334/chart-wars       4334   \n",
       "19972                          /boardgame/5118/deduction       5118   \n",
       "\n",
       "                                               name  yearpublished  sortindex  \\\n",
       "353                                    The Grizzled           2015        354   \n",
       "437                            Star Wars  Outer Rim           2019        438   \n",
       "479                         Dice Throne  Season One           2018        480   \n",
       "681    Discoveries  The Journals of Lewis and Clark           2015        682   \n",
       "1254                                   Jungle Speed           1997       1255   \n",
       "...                                             ...            ...        ...   \n",
       "19304                                    Sumo Arena           2001      19305   \n",
       "19433                                 Assembly Line           1953      19434   \n",
       "19504                      Man O' War  Sea of Blood           1994      19505   \n",
       "19572                                    Chart Wars           1992      19573   \n",
       "19972                                     Deduction           1976      19973   \n",
       "\n",
       "       minplayers  maxplayers  minplaytime  maxplaytime  minage  \n",
       "353             2           5           30           30      14  \n",
       "437             1           4          120          180      14  \n",
       "479             2           6           20           40       8  \n",
       "681             2           4           60           60      14  \n",
       "1254            2           8           10           10       7  \n",
       "...           ...         ...          ...          ...     ...  \n",
       "19304           2           7           20           20       6  \n",
       "19433           2           4           45           45       4  \n",
       "19504           2           8          180          180      12  \n",
       "19572           2           2           60           60      10  \n",
       "19972           2           2           30           30       8  \n",
       "\n",
       "[97 rows x 52 columns]"
      ]
     },
     "execution_count": 399,
     "metadata": {},
     "output_type": "execute_result"
    }
   ],
   "source": [
    "df[df['usersrated'].isnull()]"
   ]
  },
  {
   "cell_type": "code",
   "execution_count": 398,
   "metadata": {},
   "outputs": [
    {
     "data": {
      "text/html": [
       "<div>\n",
       "<style scoped>\n",
       "    .dataframe tbody tr th:only-of-type {\n",
       "        vertical-align: middle;\n",
       "    }\n",
       "\n",
       "    .dataframe tbody tr th {\n",
       "        vertical-align: top;\n",
       "    }\n",
       "\n",
       "    .dataframe thead th {\n",
       "        text-align: right;\n",
       "    }\n",
       "</style>\n",
       "<table border=\"1\" class=\"dataframe\">\n",
       "  <thead>\n",
       "    <tr style=\"text-align: right;\">\n",
       "      <th></th>\n",
       "      <th>playerage</th>\n",
       "      <th>minage</th>\n",
       "    </tr>\n",
       "  </thead>\n",
       "  <tbody>\n",
       "    <tr>\n",
       "      <th>19990</th>\n",
       "      <td>(no votes)</td>\n",
       "      <td>0</td>\n",
       "    </tr>\n",
       "    <tr>\n",
       "      <th>19991</th>\n",
       "      <td>(no votes)</td>\n",
       "      <td>8</td>\n",
       "    </tr>\n",
       "    <tr>\n",
       "      <th>19992</th>\n",
       "      <td>(no votes)</td>\n",
       "      <td>5</td>\n",
       "    </tr>\n",
       "    <tr>\n",
       "      <th>19993</th>\n",
       "      <td>(no votes)</td>\n",
       "      <td>6</td>\n",
       "    </tr>\n",
       "    <tr>\n",
       "      <th>19994</th>\n",
       "      <td>(no votes)</td>\n",
       "      <td>7</td>\n",
       "    </tr>\n",
       "    <tr>\n",
       "      <th>19995</th>\n",
       "      <td>(no votes)</td>\n",
       "      <td>0</td>\n",
       "    </tr>\n",
       "    <tr>\n",
       "      <th>19996</th>\n",
       "      <td>(no votes)</td>\n",
       "      <td>0</td>\n",
       "    </tr>\n",
       "    <tr>\n",
       "      <th>19997</th>\n",
       "      <td>(no votes)</td>\n",
       "      <td>5</td>\n",
       "    </tr>\n",
       "    <tr>\n",
       "      <th>19998</th>\n",
       "      <td>(no votes)</td>\n",
       "      <td>6</td>\n",
       "    </tr>\n",
       "    <tr>\n",
       "      <th>19999</th>\n",
       "      <td>10</td>\n",
       "      <td>0</td>\n",
       "    </tr>\n",
       "  </tbody>\n",
       "</table>\n",
       "</div>"
      ],
      "text/plain": [
       "        playerage  minage\n",
       "19990  (no votes)       0\n",
       "19991  (no votes)       8\n",
       "19992  (no votes)       5\n",
       "19993  (no votes)       6\n",
       "19994  (no votes)       7\n",
       "19995  (no votes)       0\n",
       "19996  (no votes)       0\n",
       "19997  (no votes)       5\n",
       "19998  (no votes)       6\n",
       "19999          10       0"
      ]
     },
     "execution_count": 398,
     "metadata": {},
     "output_type": "execute_result"
    }
   ],
   "source": [
    "df[['playerage','minage']].tail(10)"
   ]
  },
  {
   "cell_type": "markdown",
   "metadata": {},
   "source": [
    "- Outliers:"
   ]
  },
  {
   "cell_type": "code",
   "execution_count": 303,
   "metadata": {},
   "outputs": [
    {
     "data": {
      "text/html": [
       "<div>\n",
       "<style scoped>\n",
       "    .dataframe tbody tr th:only-of-type {\n",
       "        vertical-align: middle;\n",
       "    }\n",
       "\n",
       "    .dataframe tbody tr th {\n",
       "        vertical-align: top;\n",
       "    }\n",
       "\n",
       "    .dataframe thead th {\n",
       "        text-align: right;\n",
       "    }\n",
       "</style>\n",
       "<table border=\"1\" class=\"dataframe\">\n",
       "  <thead>\n",
       "    <tr style=\"text-align: right;\">\n",
       "      <th></th>\n",
       "      <th>totalvotes</th>\n",
       "      <th>name</th>\n",
       "    </tr>\n",
       "  </thead>\n",
       "  <tbody>\n",
       "    <tr>\n",
       "      <th>2</th>\n",
       "      <td>1252.0</td>\n",
       "      <td>Terraforming Mars</td>\n",
       "    </tr>\n",
       "    <tr>\n",
       "      <th>14</th>\n",
       "      <td>1037.0</td>\n",
       "      <td>The Castles of Burgundy</td>\n",
       "    </tr>\n",
       "    <tr>\n",
       "      <th>21</th>\n",
       "      <td>1380.0</td>\n",
       "      <td>Puerto Rico</td>\n",
       "    </tr>\n",
       "    <tr>\n",
       "      <th>23</th>\n",
       "      <td>1004.0</td>\n",
       "      <td>Mage Knight Board Game</td>\n",
       "    </tr>\n",
       "    <tr>\n",
       "      <th>28</th>\n",
       "      <td>1771.0</td>\n",
       "      <td>Agricola</td>\n",
       "    </tr>\n",
       "    <tr>\n",
       "      <th>33</th>\n",
       "      <td>1107.0</td>\n",
       "      <td>Power Grid (Recharged Version)</td>\n",
       "    </tr>\n",
       "    <tr>\n",
       "      <th>48</th>\n",
       "      <td>1834.0</td>\n",
       "      <td>7 Wonders</td>\n",
       "    </tr>\n",
       "    <tr>\n",
       "      <th>81</th>\n",
       "      <td>1594.0</td>\n",
       "      <td>Dominion</td>\n",
       "    </tr>\n",
       "    <tr>\n",
       "      <th>82</th>\n",
       "      <td>1514.0</td>\n",
       "      <td>Pandemic</td>\n",
       "    </tr>\n",
       "    <tr>\n",
       "      <th>160</th>\n",
       "      <td>1868.0</td>\n",
       "      <td>Carcassonne</td>\n",
       "    </tr>\n",
       "    <tr>\n",
       "      <th>285</th>\n",
       "      <td>1021.0</td>\n",
       "      <td>Arkham Horror</td>\n",
       "    </tr>\n",
       "    <tr>\n",
       "      <th>352</th>\n",
       "      <td>1409.0</td>\n",
       "      <td>The Settlers of Catan</td>\n",
       "    </tr>\n",
       "    <tr>\n",
       "      <th>370</th>\n",
       "      <td>1031.0</td>\n",
       "      <td>Citadels Classic</td>\n",
       "    </tr>\n",
       "  </tbody>\n",
       "</table>\n",
       "</div>"
      ],
      "text/plain": [
       "     totalvotes                            name\n",
       "2        1252.0               Terraforming Mars\n",
       "14       1037.0         The Castles of Burgundy\n",
       "21       1380.0                     Puerto Rico\n",
       "23       1004.0          Mage Knight Board Game\n",
       "28       1771.0                        Agricola\n",
       "33       1107.0  Power Grid (Recharged Version)\n",
       "48       1834.0                       7 Wonders\n",
       "81       1594.0                        Dominion\n",
       "82       1514.0                        Pandemic\n",
       "160      1868.0                     Carcassonne\n",
       "285      1021.0                   Arkham Horror\n",
       "352      1409.0           The Settlers of Catan\n",
       "370      1031.0                Citadels Classic"
      ]
     },
     "execution_count": 303,
     "metadata": {},
     "output_type": "execute_result"
    }
   ],
   "source": [
    "#df.loc[df['totalvotes'] > 1000, ['totalvotes','name']]"
   ]
  },
  {
   "cell_type": "code",
   "execution_count": 304,
   "metadata": {},
   "outputs": [],
   "source": [
    "#deletadar = df[df.yearpublished <= 0].index #Pegando o index das pessoas com idade negativa\n",
    "#df.drop(deletadar, inplace=True)"
   ]
  },
  {
   "cell_type": "code",
   "execution_count": 294,
   "metadata": {},
   "outputs": [
    {
     "data": {
      "text/plain": [
       "totalvotes\n",
       "0.0           3670\n",
       "1.0           3421\n",
       "2.0           2575\n",
       "3.0           1927\n",
       "4.0           1354\n",
       "              ... \n",
       "1514.0           1\n",
       "1594.0           1\n",
       "1771.0           1\n",
       "1834.0           1\n",
       "1868.0           1\n",
       "Name: count, Length: 359, dtype: int64"
      ]
     },
     "execution_count": 294,
     "metadata": {},
     "output_type": "execute_result"
    }
   ],
   "source": [
    "teste = df[['totalvotes']]\n",
    "teste = teste.value_counts()\n",
    "teste = teste.sort_index()\n",
    "teste"
   ]
  },
  {
   "cell_type": "markdown",
   "metadata": {},
   "source": [
    "ANÁLISES BÁSICAS SOBRE OS JOGOS:"
   ]
  },
  {
   "cell_type": "code",
   "execution_count": 284,
   "metadata": {},
   "outputs": [
    {
     "data": {
      "application/vnd.plotly.v1+json": {
       "config": {
        "plotlyServerURL": "https://plot.ly"
       },
       "data": [
        {
         "alignmentgroup": "True",
         "hovertemplate": "x=%{x}<br>y=%{y}<extra></extra>",
         "legendgroup": "",
         "marker": {
          "color": "#636efa",
          "pattern": {
           "shape": ""
          }
         },
         "name": "",
         "offsetgroup": "",
         "orientation": "v",
         "showlegend": false,
         "textposition": "auto",
         "type": "bar",
         "x": [
          2022,
          2021,
          2020,
          2019,
          2018,
          2017,
          2016,
          2015,
          2014,
          2013,
          2012,
          2011,
          2010,
          2009,
          2008,
          2007,
          2006,
          2005,
          2004,
          2003,
          2002,
          2001
         ],
         "xaxis": "x",
         "y": [
          3,
          52,
          822,
          1102,
          1173,
          1175,
          1082,
          942,
          816,
          788,
          707,
          670,
          611,
          561,
          515,
          499,
          537,
          483,
          404,
          417,
          421,
          396
         ],
         "yaxis": "y"
        }
       ],
       "layout": {
        "barmode": "relative",
        "legend": {
         "tracegroupgap": 0
        },
        "margin": {
         "t": 60
        },
        "template": {
         "data": {
          "bar": [
           {
            "error_x": {
             "color": "#2a3f5f"
            },
            "error_y": {
             "color": "#2a3f5f"
            },
            "marker": {
             "line": {
              "color": "#E5ECF6",
              "width": 0.5
             },
             "pattern": {
              "fillmode": "overlay",
              "size": 10,
              "solidity": 0.2
             }
            },
            "type": "bar"
           }
          ],
          "barpolar": [
           {
            "marker": {
             "line": {
              "color": "#E5ECF6",
              "width": 0.5
             },
             "pattern": {
              "fillmode": "overlay",
              "size": 10,
              "solidity": 0.2
             }
            },
            "type": "barpolar"
           }
          ],
          "carpet": [
           {
            "aaxis": {
             "endlinecolor": "#2a3f5f",
             "gridcolor": "white",
             "linecolor": "white",
             "minorgridcolor": "white",
             "startlinecolor": "#2a3f5f"
            },
            "baxis": {
             "endlinecolor": "#2a3f5f",
             "gridcolor": "white",
             "linecolor": "white",
             "minorgridcolor": "white",
             "startlinecolor": "#2a3f5f"
            },
            "type": "carpet"
           }
          ],
          "choropleth": [
           {
            "colorbar": {
             "outlinewidth": 0,
             "ticks": ""
            },
            "type": "choropleth"
           }
          ],
          "contour": [
           {
            "colorbar": {
             "outlinewidth": 0,
             "ticks": ""
            },
            "colorscale": [
             [
              0,
              "#0d0887"
             ],
             [
              0.1111111111111111,
              "#46039f"
             ],
             [
              0.2222222222222222,
              "#7201a8"
             ],
             [
              0.3333333333333333,
              "#9c179e"
             ],
             [
              0.4444444444444444,
              "#bd3786"
             ],
             [
              0.5555555555555556,
              "#d8576b"
             ],
             [
              0.6666666666666666,
              "#ed7953"
             ],
             [
              0.7777777777777778,
              "#fb9f3a"
             ],
             [
              0.8888888888888888,
              "#fdca26"
             ],
             [
              1,
              "#f0f921"
             ]
            ],
            "type": "contour"
           }
          ],
          "contourcarpet": [
           {
            "colorbar": {
             "outlinewidth": 0,
             "ticks": ""
            },
            "type": "contourcarpet"
           }
          ],
          "heatmap": [
           {
            "colorbar": {
             "outlinewidth": 0,
             "ticks": ""
            },
            "colorscale": [
             [
              0,
              "#0d0887"
             ],
             [
              0.1111111111111111,
              "#46039f"
             ],
             [
              0.2222222222222222,
              "#7201a8"
             ],
             [
              0.3333333333333333,
              "#9c179e"
             ],
             [
              0.4444444444444444,
              "#bd3786"
             ],
             [
              0.5555555555555556,
              "#d8576b"
             ],
             [
              0.6666666666666666,
              "#ed7953"
             ],
             [
              0.7777777777777778,
              "#fb9f3a"
             ],
             [
              0.8888888888888888,
              "#fdca26"
             ],
             [
              1,
              "#f0f921"
             ]
            ],
            "type": "heatmap"
           }
          ],
          "heatmapgl": [
           {
            "colorbar": {
             "outlinewidth": 0,
             "ticks": ""
            },
            "colorscale": [
             [
              0,
              "#0d0887"
             ],
             [
              0.1111111111111111,
              "#46039f"
             ],
             [
              0.2222222222222222,
              "#7201a8"
             ],
             [
              0.3333333333333333,
              "#9c179e"
             ],
             [
              0.4444444444444444,
              "#bd3786"
             ],
             [
              0.5555555555555556,
              "#d8576b"
             ],
             [
              0.6666666666666666,
              "#ed7953"
             ],
             [
              0.7777777777777778,
              "#fb9f3a"
             ],
             [
              0.8888888888888888,
              "#fdca26"
             ],
             [
              1,
              "#f0f921"
             ]
            ],
            "type": "heatmapgl"
           }
          ],
          "histogram": [
           {
            "marker": {
             "pattern": {
              "fillmode": "overlay",
              "size": 10,
              "solidity": 0.2
             }
            },
            "type": "histogram"
           }
          ],
          "histogram2d": [
           {
            "colorbar": {
             "outlinewidth": 0,
             "ticks": ""
            },
            "colorscale": [
             [
              0,
              "#0d0887"
             ],
             [
              0.1111111111111111,
              "#46039f"
             ],
             [
              0.2222222222222222,
              "#7201a8"
             ],
             [
              0.3333333333333333,
              "#9c179e"
             ],
             [
              0.4444444444444444,
              "#bd3786"
             ],
             [
              0.5555555555555556,
              "#d8576b"
             ],
             [
              0.6666666666666666,
              "#ed7953"
             ],
             [
              0.7777777777777778,
              "#fb9f3a"
             ],
             [
              0.8888888888888888,
              "#fdca26"
             ],
             [
              1,
              "#f0f921"
             ]
            ],
            "type": "histogram2d"
           }
          ],
          "histogram2dcontour": [
           {
            "colorbar": {
             "outlinewidth": 0,
             "ticks": ""
            },
            "colorscale": [
             [
              0,
              "#0d0887"
             ],
             [
              0.1111111111111111,
              "#46039f"
             ],
             [
              0.2222222222222222,
              "#7201a8"
             ],
             [
              0.3333333333333333,
              "#9c179e"
             ],
             [
              0.4444444444444444,
              "#bd3786"
             ],
             [
              0.5555555555555556,
              "#d8576b"
             ],
             [
              0.6666666666666666,
              "#ed7953"
             ],
             [
              0.7777777777777778,
              "#fb9f3a"
             ],
             [
              0.8888888888888888,
              "#fdca26"
             ],
             [
              1,
              "#f0f921"
             ]
            ],
            "type": "histogram2dcontour"
           }
          ],
          "mesh3d": [
           {
            "colorbar": {
             "outlinewidth": 0,
             "ticks": ""
            },
            "type": "mesh3d"
           }
          ],
          "parcoords": [
           {
            "line": {
             "colorbar": {
              "outlinewidth": 0,
              "ticks": ""
             }
            },
            "type": "parcoords"
           }
          ],
          "pie": [
           {
            "automargin": true,
            "type": "pie"
           }
          ],
          "scatter": [
           {
            "fillpattern": {
             "fillmode": "overlay",
             "size": 10,
             "solidity": 0.2
            },
            "type": "scatter"
           }
          ],
          "scatter3d": [
           {
            "line": {
             "colorbar": {
              "outlinewidth": 0,
              "ticks": ""
             }
            },
            "marker": {
             "colorbar": {
              "outlinewidth": 0,
              "ticks": ""
             }
            },
            "type": "scatter3d"
           }
          ],
          "scattercarpet": [
           {
            "marker": {
             "colorbar": {
              "outlinewidth": 0,
              "ticks": ""
             }
            },
            "type": "scattercarpet"
           }
          ],
          "scattergeo": [
           {
            "marker": {
             "colorbar": {
              "outlinewidth": 0,
              "ticks": ""
             }
            },
            "type": "scattergeo"
           }
          ],
          "scattergl": [
           {
            "marker": {
             "colorbar": {
              "outlinewidth": 0,
              "ticks": ""
             }
            },
            "type": "scattergl"
           }
          ],
          "scattermapbox": [
           {
            "marker": {
             "colorbar": {
              "outlinewidth": 0,
              "ticks": ""
             }
            },
            "type": "scattermapbox"
           }
          ],
          "scatterpolar": [
           {
            "marker": {
             "colorbar": {
              "outlinewidth": 0,
              "ticks": ""
             }
            },
            "type": "scatterpolar"
           }
          ],
          "scatterpolargl": [
           {
            "marker": {
             "colorbar": {
              "outlinewidth": 0,
              "ticks": ""
             }
            },
            "type": "scatterpolargl"
           }
          ],
          "scatterternary": [
           {
            "marker": {
             "colorbar": {
              "outlinewidth": 0,
              "ticks": ""
             }
            },
            "type": "scatterternary"
           }
          ],
          "surface": [
           {
            "colorbar": {
             "outlinewidth": 0,
             "ticks": ""
            },
            "colorscale": [
             [
              0,
              "#0d0887"
             ],
             [
              0.1111111111111111,
              "#46039f"
             ],
             [
              0.2222222222222222,
              "#7201a8"
             ],
             [
              0.3333333333333333,
              "#9c179e"
             ],
             [
              0.4444444444444444,
              "#bd3786"
             ],
             [
              0.5555555555555556,
              "#d8576b"
             ],
             [
              0.6666666666666666,
              "#ed7953"
             ],
             [
              0.7777777777777778,
              "#fb9f3a"
             ],
             [
              0.8888888888888888,
              "#fdca26"
             ],
             [
              1,
              "#f0f921"
             ]
            ],
            "type": "surface"
           }
          ],
          "table": [
           {
            "cells": {
             "fill": {
              "color": "#EBF0F8"
             },
             "line": {
              "color": "white"
             }
            },
            "header": {
             "fill": {
              "color": "#C8D4E3"
             },
             "line": {
              "color": "white"
             }
            },
            "type": "table"
           }
          ]
         },
         "layout": {
          "annotationdefaults": {
           "arrowcolor": "#2a3f5f",
           "arrowhead": 0,
           "arrowwidth": 1
          },
          "autotypenumbers": "strict",
          "coloraxis": {
           "colorbar": {
            "outlinewidth": 0,
            "ticks": ""
           }
          },
          "colorscale": {
           "diverging": [
            [
             0,
             "#8e0152"
            ],
            [
             0.1,
             "#c51b7d"
            ],
            [
             0.2,
             "#de77ae"
            ],
            [
             0.3,
             "#f1b6da"
            ],
            [
             0.4,
             "#fde0ef"
            ],
            [
             0.5,
             "#f7f7f7"
            ],
            [
             0.6,
             "#e6f5d0"
            ],
            [
             0.7,
             "#b8e186"
            ],
            [
             0.8,
             "#7fbc41"
            ],
            [
             0.9,
             "#4d9221"
            ],
            [
             1,
             "#276419"
            ]
           ],
           "sequential": [
            [
             0,
             "#0d0887"
            ],
            [
             0.1111111111111111,
             "#46039f"
            ],
            [
             0.2222222222222222,
             "#7201a8"
            ],
            [
             0.3333333333333333,
             "#9c179e"
            ],
            [
             0.4444444444444444,
             "#bd3786"
            ],
            [
             0.5555555555555556,
             "#d8576b"
            ],
            [
             0.6666666666666666,
             "#ed7953"
            ],
            [
             0.7777777777777778,
             "#fb9f3a"
            ],
            [
             0.8888888888888888,
             "#fdca26"
            ],
            [
             1,
             "#f0f921"
            ]
           ],
           "sequentialminus": [
            [
             0,
             "#0d0887"
            ],
            [
             0.1111111111111111,
             "#46039f"
            ],
            [
             0.2222222222222222,
             "#7201a8"
            ],
            [
             0.3333333333333333,
             "#9c179e"
            ],
            [
             0.4444444444444444,
             "#bd3786"
            ],
            [
             0.5555555555555556,
             "#d8576b"
            ],
            [
             0.6666666666666666,
             "#ed7953"
            ],
            [
             0.7777777777777778,
             "#fb9f3a"
            ],
            [
             0.8888888888888888,
             "#fdca26"
            ],
            [
             1,
             "#f0f921"
            ]
           ]
          },
          "colorway": [
           "#636efa",
           "#EF553B",
           "#00cc96",
           "#ab63fa",
           "#FFA15A",
           "#19d3f3",
           "#FF6692",
           "#B6E880",
           "#FF97FF",
           "#FECB52"
          ],
          "font": {
           "color": "#2a3f5f"
          },
          "geo": {
           "bgcolor": "white",
           "lakecolor": "white",
           "landcolor": "#E5ECF6",
           "showlakes": true,
           "showland": true,
           "subunitcolor": "white"
          },
          "hoverlabel": {
           "align": "left"
          },
          "hovermode": "closest",
          "mapbox": {
           "style": "light"
          },
          "paper_bgcolor": "white",
          "plot_bgcolor": "#E5ECF6",
          "polar": {
           "angularaxis": {
            "gridcolor": "white",
            "linecolor": "white",
            "ticks": ""
           },
           "bgcolor": "#E5ECF6",
           "radialaxis": {
            "gridcolor": "white",
            "linecolor": "white",
            "ticks": ""
           }
          },
          "scene": {
           "xaxis": {
            "backgroundcolor": "#E5ECF6",
            "gridcolor": "white",
            "gridwidth": 2,
            "linecolor": "white",
            "showbackground": true,
            "ticks": "",
            "zerolinecolor": "white"
           },
           "yaxis": {
            "backgroundcolor": "#E5ECF6",
            "gridcolor": "white",
            "gridwidth": 2,
            "linecolor": "white",
            "showbackground": true,
            "ticks": "",
            "zerolinecolor": "white"
           },
           "zaxis": {
            "backgroundcolor": "#E5ECF6",
            "gridcolor": "white",
            "gridwidth": 2,
            "linecolor": "white",
            "showbackground": true,
            "ticks": "",
            "zerolinecolor": "white"
           }
          },
          "shapedefaults": {
           "line": {
            "color": "#2a3f5f"
           }
          },
          "ternary": {
           "aaxis": {
            "gridcolor": "white",
            "linecolor": "white",
            "ticks": ""
           },
           "baxis": {
            "gridcolor": "white",
            "linecolor": "white",
            "ticks": ""
           },
           "bgcolor": "#E5ECF6",
           "caxis": {
            "gridcolor": "white",
            "linecolor": "white",
            "ticks": ""
           }
          },
          "title": {
           "x": 0.05
          },
          "xaxis": {
           "automargin": true,
           "gridcolor": "white",
           "linecolor": "white",
           "ticks": "",
           "title": {
            "standoff": 15
           },
           "zerolinecolor": "white",
           "zerolinewidth": 2
          },
          "yaxis": {
           "automargin": true,
           "gridcolor": "white",
           "linecolor": "white",
           "ticks": "",
           "title": {
            "standoff": 15
           },
           "zerolinecolor": "white",
           "zerolinewidth": 2
          }
         }
        },
        "title": {
         "text": "Lançamentos de jogos nos últimos 22 anos"
        },
        "xaxis": {
         "anchor": "y",
         "domain": [
          0,
          1
         ],
         "title": {
          "text": "anos"
         }
        },
        "yaxis": {
         "anchor": "x",
         "domain": [
          0,
          1
         ],
         "title": {
          "text": "quantidade"
         }
        }
       }
      }
     },
     "metadata": {},
     "output_type": "display_data"
    }
   ],
   "source": [
    "lancado = df[['yearpublished']]\n",
    "lancado = lancado.value_counts()\n",
    "lancado = lancado.sort_index(ascending=False)\n",
    "lancado = lancado.iloc[0:22]\n",
    "ano = list(range(2022,2000,-1))\n",
    "\n",
    "fig=px.bar(x=ano, y=lancado)\n",
    "fig.update_layout(\n",
    "    title='Lançamentos de jogos nos últimos 22 anos',\n",
    "    xaxis=dict(title='anos'),\n",
    "    yaxis=dict(title='quantidade'))\n",
    "fig.show()"
   ]
  },
  {
   "cell_type": "code",
   "execution_count": null,
   "metadata": {},
   "outputs": [],
   "source": []
  },
  {
   "cell_type": "code",
   "execution_count": null,
   "metadata": {},
   "outputs": [],
   "source": []
  },
  {
   "cell_type": "code",
   "execution_count": null,
   "metadata": {},
   "outputs": [],
   "source": []
  },
  {
   "cell_type": "code",
   "execution_count": null,
   "metadata": {},
   "outputs": [],
   "source": []
  },
  {
   "cell_type": "code",
   "execution_count": null,
   "metadata": {},
   "outputs": [],
   "source": []
  }
 ],
 "metadata": {
  "kernelspec": {
   "display_name": "Python 3",
   "language": "python",
   "name": "python3"
  },
  "language_info": {
   "codemirror_mode": {
    "name": "ipython",
    "version": 3
   },
   "file_extension": ".py",
   "mimetype": "text/x-python",
   "name": "python",
   "nbconvert_exporter": "python",
   "pygments_lexer": "ipython3",
   "version": "3.12.0"
  }
 },
 "nbformat": 4,
 "nbformat_minor": 2
}
